{
 "cells": [
  {
   "cell_type": "code",
   "execution_count": 1,
   "id": "9fb747ea",
   "metadata": {},
   "outputs": [],
   "source": [
    "# https://numpy.org/doc/stable/user/absolute_beginners.html#numpy-the-absolute-basics-for-beginners\n",
    "\n",
    "## https://numpy.org/doc/stable/user/absolute_beginners.html#welcome-to-numpy\n",
    "##;;; The NumPy API is used extensivly in Pandas, SciPy, Matplotlib, Scikit-Learn, Scikit-Image and most other data science and scientfic Python packages\n",
    "\n",
    "## https://numpy.org/doc/stable/user/absolute_beginners.html#installing-numpy\n",
    "##;;; If you already have Python, your can install NumPy with `cond install numpy` or `pip install numpy`"
   ]
  },
  {
   "cell_type": "code",
   "execution_count": 4,
   "id": "f09fe590",
   "metadata": {},
   "outputs": [],
   "source": [
    "## https://numpy.org/doc/stable/user/absolute_beginners.html#how-to-import-numpy\n",
    "import numpy as np"
   ]
  },
  {
   "cell_type": "code",
   "execution_count": 4,
   "id": "3b620382",
   "metadata": {},
   "outputs": [
    {
     "name": "stdout",
     "output_type": "stream",
     "text": [
      "(1, 6)\n"
     ]
    }
   ],
   "source": [
    "## https://numpy.org/doc/stable/user/absolute_beginners.html#reading-the-example-code\n",
    "a = np.arange(6)\n",
    "a2 = a[np.newaxis, :]\n",
    "print(a2.shape)"
   ]
  },
  {
   "cell_type": "code",
   "execution_count": 7,
   "id": "bbf558d9",
   "metadata": {},
   "outputs": [
    {
     "name": "stdout",
     "output_type": "stream",
     "text": [
      "array([1, 2, 4, 4, 5, 6])\n"
     ]
    }
   ],
   "source": [
    "## https://numpy.org/doc/stable/user/absolute_beginners.html#whats-the-difference-between-a-python-list-and-a-numpy-array\n",
    "##;;; All of the elements in a NumPy array should be homogeneous\n",
    "\n",
    "## https://numpy.org/doc/stable/user/absolute_beginners.html#what-is-an-array\n",
    "a = np.array([1, 2, 4, 4, 5, 6])\n",
    "print(repr(a))"
   ]
  },
  {
   "cell_type": "code",
   "execution_count": 9,
   "id": "a816ee81",
   "metadata": {},
   "outputs": [
    {
     "name": "stdout",
     "output_type": "stream",
     "text": [
      "[1 2 3 4]\n"
     ]
    }
   ],
   "source": [
    "a = np.array([[1, 2, 3, 4], [5, 6, 7, 8], [9, 10, 11, 12]])\n",
    "print(a[0])"
   ]
  },
  {
   "cell_type": "code",
   "execution_count": null,
   "id": "995bf1e3",
   "metadata": {},
   "outputs": [],
   "source": [
    "## https://numpy.org/doc/stable/user/absolute_beginners.html#more-information-about-arrays\n",
    "##;;; The shape of an array is a tuple of non-negative integers that specify the sizes of each dimensions\n",
    "\n",
    "## https://numpy.org/doc/stable/user/absolute_beginners.html#how-to-create-a-basic-array"
   ]
  },
  {
   "cell_type": "code",
   "execution_count": 4,
   "id": "241be426",
   "metadata": {},
   "outputs": [
    {
     "name": "stdout",
     "output_type": "stream",
     "text": [
      "[1 2 3]\n"
     ]
    }
   ],
   "source": [
    "import numpy as np\n",
    "a = np.array([1, 2, 3])\n",
    "print(a)"
   ]
  },
  {
   "cell_type": "code",
   "execution_count": 6,
   "id": "0057c0fb",
   "metadata": {},
   "outputs": [
    {
     "name": "stdout",
     "output_type": "stream",
     "text": [
      "[0. 0.]\n"
     ]
    }
   ],
   "source": [
    "print(np.zeros(2))"
   ]
  },
  {
   "cell_type": "code",
   "execution_count": 8,
   "id": "51a148c6",
   "metadata": {},
   "outputs": [
    {
     "name": "stdout",
     "output_type": "stream",
     "text": [
      "[1. 1.]\n"
     ]
    }
   ],
   "source": [
    "print(np.ones(2))"
   ]
  },
  {
   "cell_type": "code",
   "execution_count": 10,
   "id": "bd74d4a3",
   "metadata": {},
   "outputs": [
    {
     "name": "stdout",
     "output_type": "stream",
     "text": [
      "[1. 1.]\n"
     ]
    }
   ],
   "source": [
    "##;;; Create an empty array with 2 elements\n",
    "print(np.empty(2)) # may vary, depends one the state of the memory"
   ]
  },
  {
   "cell_type": "code",
   "execution_count": 12,
   "id": "46e62666",
   "metadata": {},
   "outputs": [
    {
     "name": "stdout",
     "output_type": "stream",
     "text": [
      "[0 1 2 3]\n"
     ]
    }
   ],
   "source": [
    "print(np.arange(4))"
   ]
  },
  {
   "cell_type": "code",
   "execution_count": 14,
   "id": "e1768e3d",
   "metadata": {},
   "outputs": [
    {
     "name": "stdout",
     "output_type": "stream",
     "text": [
      "[2 4 6 8]\n"
     ]
    }
   ],
   "source": [
    "print(np.arange(2, 9, 2))"
   ]
  },
  {
   "cell_type": "code",
   "execution_count": 17,
   "id": "596b109b",
   "metadata": {},
   "outputs": [
    {
     "name": "stdout",
     "output_type": "stream",
     "text": [
      "[ 0.   2.5  5.   7.5 10. ]\n"
     ]
    }
   ],
   "source": [
    "print(np.linspace(0, 10, num=5))"
   ]
  },
  {
   "cell_type": "code",
   "execution_count": 24,
   "id": "363637c0",
   "metadata": {},
   "outputs": [
    {
     "name": "stdout",
     "output_type": "stream",
     "text": [
      "array([1, 1])\n"
     ]
    }
   ],
   "source": [
    "x = np.ones(2, dtype=np.int64) # specifying data type\n",
    "print(ascii(x))"
   ]
  },
  {
   "cell_type": "code",
   "execution_count": null,
   "id": "0cb6a25a",
   "metadata": {},
   "outputs": [],
   "source": [
    "## https://numpy.org/doc/stable/user/absolute_beginners.html#adding-removing-and-sorting-elements"
   ]
  },
  {
   "cell_type": "code",
   "execution_count": 26,
   "id": "b35d77b5",
   "metadata": {},
   "outputs": [
    {
     "name": "stdout",
     "output_type": "stream",
     "text": [
      "[1 2 3 4 5 6 7 8]\n"
     ]
    }
   ],
   "source": [
    "arr = np.array([2, 1, 5, 3, 7, 4, 6, 8])\n",
    "print(np.sort(arr))"
   ]
  },
  {
   "cell_type": "code",
   "execution_count": 28,
   "id": "e55f2787",
   "metadata": {},
   "outputs": [
    {
     "name": "stdout",
     "output_type": "stream",
     "text": [
      "[1 2 3 4 5 6 7 8]\n"
     ]
    }
   ],
   "source": [
    "a = np.array([1, 2, 3, 4])\n",
    "b = np.array([5, 6, 7, 8])\n",
    "print(np.concatenate((a, b)))"
   ]
  },
  {
   "cell_type": "code",
   "execution_count": 32,
   "id": "6caf2d47",
   "metadata": {},
   "outputs": [
    {
     "name": "stdout",
     "output_type": "stream",
     "text": [
      "[[1 2]\n",
      " [3 4]\n",
      " [5 6]]\n"
     ]
    }
   ],
   "source": [
    "x = np.array([[1, 2], [3, 4]])\n",
    "y = np.array([[5, 6]])\n",
    "print(np.concatenate((x, y), axis=0))"
   ]
  },
  {
   "cell_type": "code",
   "execution_count": 33,
   "id": "0e7d6815",
   "metadata": {},
   "outputs": [],
   "source": [
    "## https://numpy.org/doc/stable/user/absolute_beginners.html#how-do-you-know-the-shape-and-size-of-array"
   ]
  },
  {
   "cell_type": "code",
   "execution_count": 35,
   "id": "dfea243e",
   "metadata": {},
   "outputs": [
    {
     "name": "stdout",
     "output_type": "stream",
     "text": [
      "3\n"
     ]
    }
   ],
   "source": [
    "array_example = np.array([[[0, 1, 2, 3],\n",
    "                           [4, 5, 6, 7]],\n",
    "                         \n",
    "                          [[0, 1, 2, 3],\n",
    "                           [4, 5, 6, 7]],\n",
    "                         \n",
    "                          [[0, 1, 2, 3],\n",
    "                           [4, 5, 6, 7]]])\n",
    "print(array_example.ndim)"
   ]
  },
  {
   "cell_type": "code",
   "execution_count": 37,
   "id": "046bb60e",
   "metadata": {},
   "outputs": [
    {
     "name": "stdout",
     "output_type": "stream",
     "text": [
      "24\n"
     ]
    }
   ],
   "source": [
    "print(array_example.size)"
   ]
  },
  {
   "cell_type": "code",
   "execution_count": 39,
   "id": "34f6bb9e",
   "metadata": {},
   "outputs": [
    {
     "name": "stdout",
     "output_type": "stream",
     "text": [
      "(3, 2, 4)\n"
     ]
    }
   ],
   "source": [
    "print(array_example.shape)"
   ]
  },
  {
   "cell_type": "code",
   "execution_count": 40,
   "id": "3a37464e",
   "metadata": {},
   "outputs": [],
   "source": [
    "## https://numpy.org/doc/stable/user/absolute_beginners.html#can-you-reshape-an-array"
   ]
  },
  {
   "cell_type": "code",
   "execution_count": 43,
   "id": "28afc132",
   "metadata": {},
   "outputs": [
    {
     "name": "stdout",
     "output_type": "stream",
     "text": [
      "[0 1 2 3 4 5]\n"
     ]
    }
   ],
   "source": [
    "a = np.arange(6)\n",
    "print(a)"
   ]
  },
  {
   "cell_type": "code",
   "execution_count": 45,
   "id": "d31ad5e2",
   "metadata": {},
   "outputs": [
    {
     "name": "stdout",
     "output_type": "stream",
     "text": [
      "[[0 1]\n",
      " [2 3]\n",
      " [4 5]]\n"
     ]
    }
   ],
   "source": [
    "b = a.reshape(3, 2)\n",
    "print(b)"
   ]
  },
  {
   "cell_type": "code",
   "execution_count": 48,
   "id": "846f510e",
   "metadata": {},
   "outputs": [
    {
     "name": "stdout",
     "output_type": "stream",
     "text": [
      "[[0 1 2 3 4 5]]\n"
     ]
    }
   ],
   "source": [
    "print(np.reshape(a, newshape=(1, 6), order='C'))"
   ]
  },
  {
   "cell_type": "code",
   "execution_count": 49,
   "id": "93dc05d5",
   "metadata": {},
   "outputs": [],
   "source": [
    "## https://numpy.org/doc/stable/user/absolute_beginners.html#how-to-convert-a-1d-array-into-a-2d-array-how-to-add-a-new-axis-to-an-array"
   ]
  },
  {
   "cell_type": "code",
   "execution_count": 51,
   "id": "e7e6dd12",
   "metadata": {},
   "outputs": [
    {
     "name": "stdout",
     "output_type": "stream",
     "text": [
      "(6,)\n"
     ]
    }
   ],
   "source": [
    "a = np.array([1, 2, 3, 4, 5, 6])\n",
    "print(a.shape)"
   ]
  },
  {
   "cell_type": "code",
   "execution_count": 54,
   "id": "04008564",
   "metadata": {},
   "outputs": [
    {
     "name": "stdout",
     "output_type": "stream",
     "text": [
      "(1, 6) array([[1, 2, 3, 4, 5, 6]])\n"
     ]
    }
   ],
   "source": [
    "a2 = a[np.newaxis, :]\n",
    "print(a2.shape)"
   ]
  },
  {
   "cell_type": "code",
   "execution_count": 57,
   "id": "72515c98",
   "metadata": {},
   "outputs": [
    {
     "name": "stdout",
     "output_type": "stream",
     "text": [
      "(1, 6) array([[1, 2, 3, 4, 5, 6]])\n"
     ]
    }
   ],
   "source": [
    "row_vector = a[np.newaxis, :]\n",
    "print(row_vector.shape, repr(row_vector))"
   ]
  },
  {
   "cell_type": "code",
   "execution_count": 59,
   "id": "a9ebf22f",
   "metadata": {},
   "outputs": [
    {
     "name": "stdout",
     "output_type": "stream",
     "text": [
      "(6, 1) array([[1],\n",
      "       [2],\n",
      "       [3],\n",
      "       [4],\n",
      "       [5],\n",
      "       [6]])\n"
     ]
    }
   ],
   "source": [
    "col_vector = a[:, np.newaxis]\n",
    "print(col_vector.shape, ascii(col_vector))"
   ]
  },
  {
   "cell_type": "code",
   "execution_count": 61,
   "id": "bb6a4165",
   "metadata": {},
   "outputs": [
    {
     "name": "stdout",
     "output_type": "stream",
     "text": [
      "(6,)\n"
     ]
    }
   ],
   "source": [
    "a = np.array([1, 2, 3, 4, 5, 6])\n",
    "print(a.shape)"
   ]
  },
  {
   "cell_type": "code",
   "execution_count": 65,
   "id": "bd7a953e",
   "metadata": {},
   "outputs": [
    {
     "name": "stdout",
     "output_type": "stream",
     "text": [
      "(6, 1)\n",
      "[[1]\n",
      " [2]\n",
      " [3]\n",
      " [4]\n",
      " [5]\n",
      " [6]]\n"
     ]
    }
   ],
   "source": [
    "b = np.expand_dims(a, axis=1)\n",
    "print(b.shape, b, sep='\\n')"
   ]
  },
  {
   "cell_type": "code",
   "execution_count": 67,
   "id": "34174f3f",
   "metadata": {},
   "outputs": [
    {
     "name": "stdout",
     "output_type": "stream",
     "text": [
      "(1, 6) [[1 2 3 4 5 6]]\n"
     ]
    }
   ],
   "source": [
    "c = np.expand_dims(a, axis=0)\n",
    "print(c.shape, c)"
   ]
  },
  {
   "cell_type": "code",
   "execution_count": 69,
   "id": "851441be",
   "metadata": {},
   "outputs": [
    {
     "name": "stdout",
     "output_type": "stream",
     "text": [
      "2\n"
     ]
    }
   ],
   "source": [
    "data = np.array([1, 2, 3])\n",
    "print(data[1])"
   ]
  },
  {
   "cell_type": "code",
   "execution_count": 71,
   "id": "43ece1c6",
   "metadata": {},
   "outputs": [
    {
     "name": "stdout",
     "output_type": "stream",
     "text": [
      "[1 2]\n"
     ]
    }
   ],
   "source": [
    "print(data[0:2])"
   ]
  },
  {
   "cell_type": "code",
   "execution_count": 75,
   "id": "a62e0f47",
   "metadata": {},
   "outputs": [
    {
     "name": "stdout",
     "output_type": "stream",
     "text": [
      "[2 3]\n"
     ]
    }
   ],
   "source": [
    "print(data[1:])"
   ]
  },
  {
   "cell_type": "code",
   "execution_count": 77,
   "id": "da8ab370",
   "metadata": {},
   "outputs": [
    {
     "name": "stdout",
     "output_type": "stream",
     "text": [
      "[2 3]\n"
     ]
    }
   ],
   "source": [
    "print(data[-2:])"
   ]
  },
  {
   "cell_type": "code",
   "execution_count": 83,
   "id": "191d26f0",
   "metadata": {},
   "outputs": [
    {
     "name": "stdout",
     "output_type": "stream",
     "text": [
      "[[ True  True  True  True]\n",
      " [False False False False]\n",
      " [False False False False]]\n",
      "[1 2 3 4]\n"
     ]
    }
   ],
   "source": [
    "a = np.array([[1, 2, 3, 4], [5, 6, 7, 8], [9, 10, 11, 12]])\n",
    "print(a < 5, a[a < 5], sep='\\n')"
   ]
  },
  {
   "cell_type": "code",
   "execution_count": 84,
   "id": "ab9cf132",
   "metadata": {},
   "outputs": [
    {
     "name": "stdout",
     "output_type": "stream",
     "text": [
      "[[False False False False]\n",
      " [ True  True  True  True]\n",
      " [ True  True  True  True]]\n",
      "[ 5  6  7  8  9 10 11 12]\n"
     ]
    }
   ],
   "source": [
    "five_up = (a >= 5)\n",
    "print(five_up, a[five_up], sep='\\n')"
   ]
  },
  {
   "cell_type": "code",
   "execution_count": 86,
   "id": "177d795b",
   "metadata": {},
   "outputs": [
    {
     "name": "stdout",
     "output_type": "stream",
     "text": [
      "[ 2  4  6  8 10 12]\n"
     ]
    }
   ],
   "source": [
    "divisible_by_2 = a[a%2==0]\n",
    "print(divisible_by_2)"
   ]
  },
  {
   "cell_type": "code",
   "execution_count": 88,
   "id": "f4fdbc9c",
   "metadata": {},
   "outputs": [
    {
     "name": "stdout",
     "output_type": "stream",
     "text": [
      "[ 3  4  5  6  7  8  9 10]\n"
     ]
    }
   ],
   "source": [
    "c = a[(a > 2) & (a < 11)]\n",
    "print(c)"
   ]
  },
  {
   "cell_type": "code",
   "execution_count": 90,
   "id": "b0612725",
   "metadata": {},
   "outputs": [
    {
     "name": "stdout",
     "output_type": "stream",
     "text": [
      "[ 5  6  7  8  9 10 11 12]\n"
     ]
    }
   ],
   "source": [
    "five_up = a[(a > 5) | (a == 5)]\n",
    "print(five_up)"
   ]
  },
  {
   "cell_type": "code",
   "execution_count": 95,
   "id": "cb791413",
   "metadata": {},
   "outputs": [
    {
     "name": "stdout",
     "output_type": "stream",
     "text": [
      "[[ True  True  True  True]\n",
      " [False False False False]\n",
      " [False False False False]]\n",
      "(array([0, 0, 0, 0]), array([0, 1, 2, 3]))\n"
     ]
    }
   ],
   "source": [
    "a = np.array([[1, 2, 3, 4], [5, 6, 7, 8], [9, 10, 11, 12]])\n",
    "b = np.nonzero(a < 5)\n",
    "print(a < 5, repr(b), sep='\\n')"
   ]
  },
  {
   "cell_type": "code",
   "execution_count": 97,
   "id": "b7148f86",
   "metadata": {},
   "outputs": [
    {
     "name": "stdout",
     "output_type": "stream",
     "text": [
      "(0, 0)\n",
      "(0, 1)\n",
      "(0, 2)\n",
      "(0, 3)\n"
     ]
    }
   ],
   "source": [
    "list_of_coordinates = list(zip(b[0], b[1]))\n",
    "for coord in list_of_coordinates:\n",
    "    print(coord)"
   ]
  },
  {
   "cell_type": "code",
   "execution_count": 99,
   "id": "ac903374",
   "metadata": {},
   "outputs": [
    {
     "name": "stdout",
     "output_type": "stream",
     "text": [
      "[1 2 3 4]\n"
     ]
    }
   ],
   "source": [
    "print(a[b])"
   ]
  },
  {
   "cell_type": "code",
   "execution_count": 101,
   "id": "f4a47dc1",
   "metadata": {},
   "outputs": [
    {
     "name": "stdout",
     "output_type": "stream",
     "text": [
      "(array([], dtype=int64), array([], dtype=int64))\n"
     ]
    }
   ],
   "source": [
    "not_there = np.nonzero(a == 42)\n",
    "print(ascii(not_there))"
   ]
  },
  {
   "cell_type": "code",
   "execution_count": 102,
   "id": "f83ce5fd",
   "metadata": {},
   "outputs": [],
   "source": [
    "## https://numpy.org/doc/stable/user/absolute_beginners.html#how-to-create-an-array-from-existing-data"
   ]
  },
  {
   "cell_type": "code",
   "execution_count": 104,
   "id": "c92d6a1f",
   "metadata": {},
   "outputs": [
    {
     "name": "stdout",
     "output_type": "stream",
     "text": [
      "[4 5 6 7 8]\n"
     ]
    }
   ],
   "source": [
    "a = np.array([1, 2, 3, 4, 5, 6, 7, 8, 9, 10])\n",
    "arr1 = a[3:8]\n",
    "print(arr1)"
   ]
  },
  {
   "cell_type": "code",
   "execution_count": 110,
   "id": "59d00217",
   "metadata": {},
   "outputs": [
    {
     "name": "stdout",
     "output_type": "stream",
     "text": [
      "[[1 1]\n",
      " [2 2]\n",
      " [3 3]\n",
      " [4 4]]\n"
     ]
    }
   ],
   "source": [
    "a1 = np.array([[1, 1],\n",
    "               [2, 2]])\n",
    "a2 = np.array([[3, 3],\n",
    "               [4, 4]])\n",
    "print(np.vstack((a1, a2)))"
   ]
  },
  {
   "cell_type": "code",
   "execution_count": 112,
   "id": "764ccb83",
   "metadata": {},
   "outputs": [
    {
     "name": "stdout",
     "output_type": "stream",
     "text": [
      "[[1 1 3 3]\n",
      " [2 2 4 4]]\n"
     ]
    }
   ],
   "source": [
    "print(np.hstack((a1, a2)))"
   ]
  },
  {
   "cell_type": "code",
   "execution_count": 114,
   "id": "d6248856",
   "metadata": {},
   "outputs": [
    {
     "name": "stdout",
     "output_type": "stream",
     "text": [
      "[[ 1  2  3  4  5  6  7  8  9 10 11 12]\n",
      " [13 14 15 16 17 18 19 20 21 22 23 24]]\n"
     ]
    }
   ],
   "source": [
    "x = np.arange(1, 25).reshape(2, 12)\n",
    "print(x)"
   ]
  },
  {
   "cell_type": "code",
   "execution_count": 116,
   "id": "3682302a",
   "metadata": {},
   "outputs": [
    {
     "name": "stdout",
     "output_type": "stream",
     "text": [
      "[array([[ 1,  2,  3,  4],\n",
      "       [13, 14, 15, 16]]), array([[ 5,  6,  7,  8],\n",
      "       [17, 18, 19, 20]]), array([[ 9, 10, 11, 12],\n",
      "       [21, 22, 23, 24]])]\n"
     ]
    }
   ],
   "source": [
    "print(np.hsplit(x, 3))"
   ]
  },
  {
   "cell_type": "code",
   "execution_count": 118,
   "id": "420d4ab9",
   "metadata": {},
   "outputs": [
    {
     "name": "stdout",
     "output_type": "stream",
     "text": [
      "[1 2 3 4]\n"
     ]
    }
   ],
   "source": [
    "a = np.array([[1, 2, 3, 4], [5, 6, 7, 8], [9, 10, 11, 12]])\n",
    "b1 = a[0, :]\n",
    "print(b1)"
   ]
  },
  {
   "cell_type": "code",
   "execution_count": 120,
   "id": "882e79eb",
   "metadata": {},
   "outputs": [
    {
     "name": "stdout",
     "output_type": "stream",
     "text": [
      "[99  2  3  4]\n",
      "[[99  2  3  4]\n",
      " [ 5  6  7  8]\n",
      " [ 9 10 11 12]]\n"
     ]
    }
   ],
   "source": [
    "b1[0] = 99\n",
    "print(b1, a, sep='\\n')"
   ]
  },
  {
   "cell_type": "code",
   "execution_count": 122,
   "id": "f6359e0a",
   "metadata": {},
   "outputs": [
    {
     "name": "stdout",
     "output_type": "stream",
     "text": [
      "[[ 1  1  1  1]\n",
      " [ 5  6  7  8]\n",
      " [ 9 10 11 12]]\n",
      "[[99  2  3  4]\n",
      " [ 5  6  7  8]\n",
      " [ 9 10 11 12]]\n"
     ]
    }
   ],
   "source": [
    "b2 = a.copy()\n",
    "b2[0] = 1\n",
    "print(b2, a, sep='\\n')"
   ]
  },
  {
   "cell_type": "code",
   "execution_count": 123,
   "id": "4f5e0980",
   "metadata": {},
   "outputs": [],
   "source": [
    "## https://numpy.org/doc/stable/user/absolute_beginners.html#basic-array-operations"
   ]
  },
  {
   "cell_type": "code",
   "execution_count": 125,
   "id": "e3dc9b8d",
   "metadata": {},
   "outputs": [
    {
     "name": "stdout",
     "output_type": "stream",
     "text": [
      "[1 2]\n",
      "[1 1]\n",
      "[2 3]\n"
     ]
    }
   ],
   "source": [
    "data = np.array([1, 2])\n",
    "ones = np.ones(2, dtype=int)\n",
    "print(data, ones, data + ones, sep='\\n')"
   ]
  },
  {
   "cell_type": "code",
   "execution_count": 127,
   "id": "36e3602f",
   "metadata": {},
   "outputs": [
    {
     "name": "stdout",
     "output_type": "stream",
     "text": [
      "[0 1]\n",
      "[1 4]\n",
      "[1. 1.]\n"
     ]
    }
   ],
   "source": [
    "print(data - ones, data * data, data / data, sep='\\n')"
   ]
  },
  {
   "cell_type": "code",
   "execution_count": 129,
   "id": "a538a1fb",
   "metadata": {},
   "outputs": [
    {
     "name": "stdout",
     "output_type": "stream",
     "text": [
      "10\n"
     ]
    }
   ],
   "source": [
    "a = np.array([1, 2, 3, 4])\n",
    "print(a.sum())"
   ]
  },
  {
   "cell_type": "code",
   "execution_count": 132,
   "id": "d4c224a0",
   "metadata": {},
   "outputs": [
    {
     "name": "stdout",
     "output_type": "stream",
     "text": [
      "[3 3]\n"
     ]
    }
   ],
   "source": [
    "b = np.array([[1, 1], [2, 2]])\n",
    "print(b.sum(axis=0))"
   ]
  },
  {
   "cell_type": "code",
   "execution_count": 134,
   "id": "e861e8a7",
   "metadata": {},
   "outputs": [
    {
     "name": "stdout",
     "output_type": "stream",
     "text": [
      "[2 4]\n"
     ]
    }
   ],
   "source": [
    "print(b.sum(axis=1))"
   ]
  },
  {
   "cell_type": "code",
   "execution_count": 135,
   "id": "3263d8d0",
   "metadata": {},
   "outputs": [],
   "source": [
    "## https://numpy.org/doc/stable/user/absolute_beginners.html#broadcasting"
   ]
  },
  {
   "cell_type": "code",
   "execution_count": 137,
   "id": "1f559838",
   "metadata": {},
   "outputs": [
    {
     "name": "stdout",
     "output_type": "stream",
     "text": [
      "[1.6 3.2]\n"
     ]
    }
   ],
   "source": [
    "data = np.array([1.0, 2.0])\n",
    "print(data * 1.6)"
   ]
  },
  {
   "cell_type": "code",
   "execution_count": 138,
   "id": "276914db",
   "metadata": {},
   "outputs": [],
   "source": [
    "## https://numpy.org/doc/stable/user/absolute_beginners.html#more-useful-array-operations"
   ]
  },
  {
   "cell_type": "code",
   "execution_count": 140,
   "id": "b5d43f29",
   "metadata": {},
   "outputs": [
    {
     "name": "stdout",
     "output_type": "stream",
     "text": [
      "2.0\n",
      "1.0\n",
      "3.0\n"
     ]
    }
   ],
   "source": [
    "print(data.max(), data.min(), data.sum(), sep='\\n')"
   ]
  },
  {
   "cell_type": "code",
   "execution_count": 143,
   "id": "42e0a85b",
   "metadata": {},
   "outputs": [
    {
     "name": "stdout",
     "output_type": "stream",
     "text": [
      "4.859574800000001\n",
      "0.05093587\n"
     ]
    }
   ],
   "source": [
    "a = np.array([[0.45053314, 0.17296777, 0.34376245, 0.5510652],\n",
    "              [0.54627315, 0.05093587, 0.40067661, 0.55645993],\n",
    "              [0.12697268, 0.82485143, 0.26590556, 0.56917101]])\n",
    "print(a.sum(), a.min(), sep='\\n')"
   ]
  },
  {
   "cell_type": "code",
   "execution_count": 145,
   "id": "b0ef3428",
   "metadata": {},
   "outputs": [
    {
     "name": "stdout",
     "output_type": "stream",
     "text": [
      "[0.12697268 0.05093587 0.26590556 0.5510652 ]\n"
     ]
    }
   ],
   "source": [
    "print(a.min(axis=0))"
   ]
  },
  {
   "cell_type": "code",
   "execution_count": 146,
   "id": "dc6b9716",
   "metadata": {},
   "outputs": [],
   "source": [
    "## https://numpy.org/doc/stable/user/absolute_beginners.html#creating-matrics"
   ]
  },
  {
   "cell_type": "code",
   "execution_count": 148,
   "id": "f3b637d5",
   "metadata": {},
   "outputs": [
    {
     "name": "stdout",
     "output_type": "stream",
     "text": [
      "[[1 2]\n",
      " [3 4]\n",
      " [5 6]]\n"
     ]
    }
   ],
   "source": [
    "data = np.array([[1, 2], [3, 4], [5, 6]])\n",
    "print(data)"
   ]
  },
  {
   "cell_type": "code",
   "execution_count": 150,
   "id": "6ee78b6a",
   "metadata": {},
   "outputs": [
    {
     "name": "stdout",
     "output_type": "stream",
     "text": [
      "2\n",
      "[[3 4]\n",
      " [5 6]]\n",
      "[1 3]\n"
     ]
    }
   ],
   "source": [
    "print(data[0, 1], data[1:3], data[0:2, 0], sep='\\n')"
   ]
  },
  {
   "cell_type": "code",
   "execution_count": 153,
   "id": "3db4c838",
   "metadata": {},
   "outputs": [
    {
     "name": "stdout",
     "output_type": "stream",
     "text": [
      "6 1 21 \n",
      "\n"
     ]
    }
   ],
   "source": [
    "print(data.max(), data.min(), data.sum(), '\\n')"
   ]
  },
  {
   "cell_type": "code",
   "execution_count": 161,
   "id": "45171524",
   "metadata": {},
   "outputs": [
    {
     "name": "stdout",
     "output_type": "stream",
     "text": [
      "[[1 2]\n",
      " [5 3]\n",
      " [4 6]]\n",
      "[5 6]\n",
      "[2 5 6]\n"
     ]
    }
   ],
   "source": [
    "data = np.array([[1, 2], [5, 3], [4, 6]])\n",
    "print(data, data.max(axis=0), data.max(axis=1), sep='\\n')"
   ]
  },
  {
   "cell_type": "code",
   "execution_count": 163,
   "id": "54f454c7",
   "metadata": {},
   "outputs": [
    {
     "name": "stdout",
     "output_type": "stream",
     "text": [
      "[[2 3]\n",
      " [4 5]]\n"
     ]
    }
   ],
   "source": [
    "data = np.array([[1, 2], [3, 4]])\n",
    "ones = np.array([[1, 1], [1, 1]])\n",
    "print(data + ones)"
   ]
  },
  {
   "cell_type": "code",
   "execution_count": 165,
   "id": "2286d657",
   "metadata": {},
   "outputs": [
    {
     "name": "stdout",
     "output_type": "stream",
     "text": [
      "[[2 3]\n",
      " [4 5]\n",
      " [6 7]]\n"
     ]
    }
   ],
   "source": [
    "data = np.array([[1, 2], [3, 4], [5, 6]])\n",
    "ones_row = np.array([[1, 1]])\n",
    "print(data + ones_row)"
   ]
  },
  {
   "cell_type": "code",
   "execution_count": 169,
   "id": "29ff3e0f",
   "metadata": {},
   "outputs": [
    {
     "name": "stdout",
     "output_type": "stream",
     "text": [
      "[[[1. 1.]\n",
      "  [1. 1.]\n",
      "  [1. 1.]]\n",
      "\n",
      " [[1. 1.]\n",
      "  [1. 1.]\n",
      "  [1. 1.]]\n",
      "\n",
      " [[1. 1.]\n",
      "  [1. 1.]\n",
      "  [1. 1.]]\n",
      "\n",
      " [[1. 1.]\n",
      "  [1. 1.]\n",
      "  [1. 1.]]]\n"
     ]
    }
   ],
   "source": [
    "print(np.ones((4, 3, 2)))"
   ]
  },
  {
   "cell_type": "code",
   "execution_count": 172,
   "id": "d6a086cb",
   "metadata": {},
   "outputs": [
    {
     "name": "stdout",
     "output_type": "stream",
     "text": [
      "[1. 1. 1.] [0. 0. 0.]\n"
     ]
    }
   ],
   "source": [
    "print(np.ones(3), np.zeros(3))"
   ]
  },
  {
   "cell_type": "code",
   "execution_count": 174,
   "id": "9b82a465",
   "metadata": {},
   "outputs": [
    {
     "name": "stdout",
     "output_type": "stream",
     "text": [
      "[0.36560765 0.10898122 0.27671135]\n"
     ]
    }
   ],
   "source": [
    "rng = np.random.default_rng() # the simplest way to generate radom numbers\n",
    "print(rng.random(3))"
   ]
  },
  {
   "cell_type": "code",
   "execution_count": 177,
   "id": "14df8c57",
   "metadata": {},
   "outputs": [
    {
     "name": "stdout",
     "output_type": "stream",
     "text": [
      "[[1. 1.]\n",
      " [1. 1.]\n",
      " [1. 1.]]\n",
      "[[0. 0.]\n",
      " [0. 0.]\n",
      " [0. 0.]]\n",
      "[[0.51686305 0.31791762]\n",
      " [0.79992162 0.80571694]\n",
      " [0.02137154 0.58757189]]\n"
     ]
    }
   ],
   "source": [
    "print(np.ones((3, 2)), np.zeros((3, 2)), rng.random((3, 2)), sep='\\n')"
   ]
  },
  {
   "cell_type": "code",
   "execution_count": 178,
   "id": "43539566",
   "metadata": {},
   "outputs": [],
   "source": [
    "## https://numpy.org/doc/stable/user/absolute_beginners.html#generating-random-numbers"
   ]
  },
  {
   "cell_type": "code",
   "execution_count": 181,
   "id": "47676bdc",
   "metadata": {},
   "outputs": [
    {
     "name": "stdout",
     "output_type": "stream",
     "text": [
      "[[3 0 1 2]\n",
      " [2 1 2 3]]\n"
     ]
    }
   ],
   "source": [
    "print(rng.integers(4, size=(2, 4)))"
   ]
  },
  {
   "cell_type": "code",
   "execution_count": 182,
   "id": "3d4e9ef2",
   "metadata": {},
   "outputs": [],
   "source": [
    "## https://numpy.org/doc/stable/user/absolute_beginners.html#how-to-get-unique-items-and-counts"
   ]
  },
  {
   "cell_type": "code",
   "execution_count": 190,
   "id": "56c580e0",
   "metadata": {},
   "outputs": [
    {
     "name": "stdout",
     "output_type": "stream",
     "text": [
      "[11 12 13 14 15 16 17 18 19 20]\n"
     ]
    }
   ],
   "source": [
    "a = np.array([11, 11, 12, 13, 14, 15, 16, 17, 12, 13, 11, 14, 18, 19, 20])\n",
    "unique_values = np.unique(a)\n",
    "print(unique_values)"
   ]
  },
  {
   "cell_type": "code",
   "execution_count": 191,
   "id": "4d4ced55",
   "metadata": {},
   "outputs": [
    {
     "name": "stdout",
     "output_type": "stream",
     "text": [
      "[ 0  2  3  4  5  6  7 12 13 14]\n"
     ]
    }
   ],
   "source": [
    "unique_values, indics_list = np.unique(a, return_index=True)\n",
    "print(indics_list)"
   ]
  },
  {
   "cell_type": "code",
   "execution_count": 193,
   "id": "5fb17ba7",
   "metadata": {},
   "outputs": [
    {
     "name": "stdout",
     "output_type": "stream",
     "text": [
      "[3 2 2 2 1 1 1 1 1 1]\n"
     ]
    }
   ],
   "source": [
    "_, occurrence_list = np.unique(a, return_counts=True)\n",
    "print(occurrence_list)"
   ]
  },
  {
   "cell_type": "code",
   "execution_count": 195,
   "id": "360a7ff7",
   "metadata": {},
   "outputs": [
    {
     "name": "stdout",
     "output_type": "stream",
     "text": [
      "[ 1  2  3  4  5  6  7  8  9 10 11 12]\n"
     ]
    }
   ],
   "source": [
    "a_2d = np.array([[1, 2, 3, 4], [5, 6, 7, 8], [9, 10, 11, 12], [1, 2, 3, 4]])\n",
    "unique_values = np.unique(a_2d)\n",
    "print(unique_values)"
   ]
  },
  {
   "cell_type": "code",
   "execution_count": 197,
   "id": "a0ed2e35",
   "metadata": {},
   "outputs": [
    {
     "name": "stdout",
     "output_type": "stream",
     "text": [
      "[[ 1  2  3  4]\n",
      " [ 5  6  7  8]\n",
      " [ 9 10 11 12]]\n"
     ]
    }
   ],
   "source": [
    "unique_rows = np.unique(a_2d, axis=0)\n",
    "print(unique_rows)"
   ]
  },
  {
   "cell_type": "code",
   "execution_count": 199,
   "id": "1237b553",
   "metadata": {},
   "outputs": [
    {
     "name": "stdout",
     "output_type": "stream",
     "text": [
      "[[ 1  2  3  4]\n",
      " [ 5  6  7  8]\n",
      " [ 9 10 11 12]]\n",
      "[0 1 2]\n",
      "[2 1 1]\n"
     ]
    }
   ],
   "source": [
    "unique_rows, indices, occurrence_count = np.unique(\n",
    "        a_2d, axis=0, return_counts=True, return_index=True)\n",
    "print(unique_rows, indices, occurrence_count, sep='\\n')"
   ]
  },
  {
   "cell_type": "code",
   "execution_count": 200,
   "id": "2b40dc29",
   "metadata": {},
   "outputs": [],
   "source": [
    "## https://numpy.org/doc/stable/user/absolute_beginners.html#transporting-and-reshaping-a-matrix"
   ]
  },
  {
   "cell_type": "code",
   "execution_count": 202,
   "id": "991e90ce",
   "metadata": {},
   "outputs": [
    {
     "name": "stdout",
     "output_type": "stream",
     "text": [
      "[[1 2 3]\n",
      " [4 5 6]]\n",
      "[[1 2]\n",
      " [3 4]\n",
      " [5 6]]\n"
     ]
    }
   ],
   "source": [
    "print(data.reshape(2, 3), data.reshape(3, 2), sep='\\n')"
   ]
  },
  {
   "cell_type": "code",
   "execution_count": 204,
   "id": "155464e0",
   "metadata": {},
   "outputs": [
    {
     "name": "stdout",
     "output_type": "stream",
     "text": [
      "[[0 1 2]\n",
      " [3 4 5]]\n",
      "[[0 3]\n",
      " [1 4]\n",
      " [2 5]]\n",
      "[[0 3]\n",
      " [1 4]\n",
      " [2 5]]\n"
     ]
    }
   ],
   "source": [
    "arr = np.arange(6).reshape((2, 3))\n",
    "print(arr, arr.transpose(), arr.T, sep='\\n')"
   ]
  },
  {
   "cell_type": "code",
   "execution_count": 205,
   "id": "0684fa85",
   "metadata": {},
   "outputs": [],
   "source": [
    "## https://numpy.org/doc/stable/user/absolute_beginners.html#how-to-reverse-an-array"
   ]
  },
  {
   "cell_type": "code",
   "execution_count": 208,
   "id": "3f84a441",
   "metadata": {},
   "outputs": [
    {
     "name": "stdout",
     "output_type": "stream",
     "text": [
      "Reversed Array: [8 7 6 5 4 3 2 1]\n"
     ]
    }
   ],
   "source": [
    "arr = np.array([1, 2, 3, 4, 5, 6, 7, 8])\n",
    "reversed_arr = np.flip(arr)\n",
    "print('Reversed Array:', reversed_arr)"
   ]
  },
  {
   "cell_type": "code",
   "execution_count": 210,
   "id": "802e00a5",
   "metadata": {},
   "outputs": [
    {
     "name": "stdout",
     "output_type": "stream",
     "text": [
      "[[12 11 10  9]\n",
      " [ 8  7  6  5]\n",
      " [ 4  3  2  1]]\n"
     ]
    }
   ],
   "source": [
    "arr_2d = np.array([[1, 2, 3, 4], [5, 6, 7, 8], [9, 10, 11, 12]])\n",
    "reserved_arr = np.flip(arr_2d)\n",
    "print(reserved_arr)"
   ]
  },
  {
   "cell_type": "code",
   "execution_count": 212,
   "id": "e226485e",
   "metadata": {},
   "outputs": [
    {
     "name": "stdout",
     "output_type": "stream",
     "text": [
      "[[ 9 10 11 12]\n",
      " [ 5  6  7  8]\n",
      " [ 1  2  3  4]]\n"
     ]
    }
   ],
   "source": [
    "reversed_arr_rows = np.flip(arr_2d, axis=0)\n",
    "print(reversed_arr_rows)"
   ]
  },
  {
   "cell_type": "code",
   "execution_count": 214,
   "id": "4ae71642",
   "metadata": {},
   "outputs": [
    {
     "name": "stdout",
     "output_type": "stream",
     "text": [
      "[[ 4  3  2  1]\n",
      " [ 8  7  6  5]\n",
      " [12 11 10  9]]\n"
     ]
    }
   ],
   "source": [
    "reversed_arr_columns = np.flip(arr_2d, axis=1)\n",
    "print(reversed_arr_columns)"
   ]
  },
  {
   "cell_type": "code",
   "execution_count": 216,
   "id": "0d428d84",
   "metadata": {},
   "outputs": [
    {
     "name": "stdout",
     "output_type": "stream",
     "text": [
      "[[ 1  2  3  4]\n",
      " [ 5  6  7  8]\n",
      " [ 9 10 11 12]]\n"
     ]
    }
   ],
   "source": [
    "arr_2d[1] = np.flip(arr_2d[1])\n",
    "print(arr_2d)"
   ]
  },
  {
   "cell_type": "code",
   "execution_count": 218,
   "id": "2af9ba8e",
   "metadata": {},
   "outputs": [
    {
     "name": "stdout",
     "output_type": "stream",
     "text": [
      "[[ 1  2  3  4]\n",
      " [ 5  6  7  8]\n",
      " [ 9 10 11 12]]\n"
     ]
    }
   ],
   "source": [
    "arr_2d[:, 1] = np.flip(arr_2d[:, 1])\n",
    "print(arr_2d)"
   ]
  },
  {
   "cell_type": "code",
   "execution_count": 219,
   "id": "576b74ad",
   "metadata": {},
   "outputs": [],
   "source": [
    "## https://numpy.org/doc/stable/user/absolute_beginners.html#reshaping-and-flattening-multidimensional-arrays"
   ]
  },
  {
   "cell_type": "code",
   "execution_count": 221,
   "id": "b3dd2069",
   "metadata": {},
   "outputs": [
    {
     "name": "stdout",
     "output_type": "stream",
     "text": [
      "[ 1  2  3  4  5  6  7  8  9 10 11 12]\n"
     ]
    }
   ],
   "source": [
    "x = np.array([[1, 2, 3, 4], [5, 6, 7, 8], [9, 10, 11, 12]])\n",
    "print(x.flatten())"
   ]
  },
  {
   "cell_type": "code",
   "execution_count": 223,
   "id": "2b3d197e",
   "metadata": {},
   "outputs": [
    {
     "name": "stdout",
     "output_type": "stream",
     "text": [
      "[[ 1  2  3  4]\n",
      " [ 5  6  7  8]\n",
      " [ 9 10 11 12]]\n",
      "[99  2  3  4  5  6  7  8  9 10 11 12]\n"
     ]
    }
   ],
   "source": [
    "a1 = x.flatten()\n",
    "a1[0] = 99\n",
    "print(x) # Original array\n",
    "print(a1) # New array"
   ]
  },
  {
   "cell_type": "code",
   "execution_count": 225,
   "id": "aae207fd",
   "metadata": {},
   "outputs": [
    {
     "name": "stdout",
     "output_type": "stream",
     "text": [
      "[[98  2  3  4]\n",
      " [ 5  6  7  8]\n",
      " [ 9 10 11 12]]\n",
      "[98  2  3  4  5  6  7  8  9 10 11 12]\n"
     ]
    }
   ],
   "source": [
    "a2 = x.ravel()\n",
    "a2[0] = 98\n",
    "print(x) # Original array\n",
    "print(a2) # New array"
   ]
  },
  {
   "cell_type": "code",
   "execution_count": 226,
   "id": "e0bc0e56",
   "metadata": {},
   "outputs": [],
   "source": [
    "## https://numpy.org/doc/stable/user/absolute_beginners.html#how-to-access-the-docstring-for-more-information"
   ]
  },
  {
   "cell_type": "code",
   "execution_count": 228,
   "id": "d3b444cf",
   "metadata": {},
   "outputs": [
    {
     "name": "stdout",
     "output_type": "stream",
     "text": [
      "Help on built-in function max in module builtins:\n",
      "\n",
      "max(...)\n",
      "    max(iterable, *[, default=obj, key=func]) -> value\n",
      "    max(arg1, arg2, *args, *[, key=func]) -> value\n",
      "\n",
      "    With a single iterable argument, return its biggest item. The\n",
      "    default keyword-only argument specifies an object to return if\n",
      "    the provided iterable is empty.\n",
      "    With two or more arguments, return the largest argument.\n",
      "\n"
     ]
    }
   ],
   "source": [
    "help(max)"
   ]
  },
  {
   "cell_type": "code",
   "execution_count": 231,
   "id": "4f6a2776",
   "metadata": {},
   "outputs": [],
   "source": [
    "In [0]: max?"
   ]
  },
  {
   "cell_type": "code",
   "execution_count": 232,
   "id": "553d2fd3",
   "metadata": {},
   "outputs": [],
   "source": [
    "a = np.array([1, 2, 3, 4, 5, 6])"
   ]
  },
  {
   "cell_type": "code",
   "execution_count": 234,
   "id": "32aaeebf",
   "metadata": {},
   "outputs": [],
   "source": [
    "In [1]: a?"
   ]
  },
  {
   "cell_type": "code",
   "execution_count": 235,
   "id": "11b2c974",
   "metadata": {},
   "outputs": [],
   "source": [
    "def double(a):\n",
    "    ''' Retrun a * 2'''\n",
    "    return a * 2"
   ]
  },
  {
   "cell_type": "code",
   "execution_count": 236,
   "id": "345bf138",
   "metadata": {},
   "outputs": [],
   "source": [
    "In [2]: double?"
   ]
  },
  {
   "cell_type": "code",
   "execution_count": 237,
   "id": "8cd4abb0",
   "metadata": {},
   "outputs": [],
   "source": [
    "In [3]: double??"
   ]
  },
  {
   "cell_type": "code",
   "execution_count": 238,
   "id": "d26515c5",
   "metadata": {},
   "outputs": [],
   "source": [
    "In [4]: len?"
   ]
  },
  {
   "cell_type": "code",
   "execution_count": 239,
   "id": "810b32c3",
   "metadata": {},
   "outputs": [],
   "source": [
    "In [5]: len??"
   ]
  },
  {
   "cell_type": "code",
   "execution_count": 240,
   "id": "c660c5d0",
   "metadata": {},
   "outputs": [],
   "source": [
    "## https://numpy.org/doc/stable/user/absolute_beginners.html#working-with-mathematical-formulas"
   ]
  },
  {
   "cell_type": "code",
   "execution_count": 241,
   "id": "8dae20c7",
   "metadata": {},
   "outputs": [
    {
     "name": "stdout",
     "output_type": "stream",
     "text": [
      "1.6666666666666665\n"
     ]
    }
   ],
   "source": [
    "predictions = np.array([1, 1, 1])\n",
    "labels = np.array([1, 2, 3])\n",
    "error = (1/3) * np.sum(np.square(predictions-labels))\n",
    "print(error)"
   ]
  },
  {
   "cell_type": "code",
   "execution_count": 242,
   "id": "5c946e3e",
   "metadata": {},
   "outputs": [],
   "source": [
    "## https://numpy.org/doc/stable/user/absolute_beginners.html#how-to-save-and-load-numpy-objects"
   ]
  },
  {
   "cell_type": "code",
   "execution_count": 243,
   "id": "4557c42b",
   "metadata": {},
   "outputs": [],
   "source": [
    "a = np.array([1, 2, 3, 4, 5, 6])\n",
    "np.save('filename', a)"
   ]
  },
  {
   "cell_type": "code",
   "execution_count": 244,
   "id": "77776b1d",
   "metadata": {},
   "outputs": [
    {
     "name": "stdout",
     "output_type": "stream",
     "text": [
      "[1 2 3 4 5 6]\n"
     ]
    }
   ],
   "source": [
    "b = np.load('filename.npy')\n",
    "print(b)"
   ]
  },
  {
   "cell_type": "code",
   "execution_count": 245,
   "id": "9b4a7272",
   "metadata": {},
   "outputs": [
    {
     "name": "stdout",
     "output_type": "stream",
     "text": [
      "[1. 2. 3. 4. 5. 6. 7. 8.]\n"
     ]
    }
   ],
   "source": [
    "csv_arr = np.array([1, 2, 3, 4, 5, 6, 7, 8])\n",
    "np.savetxt('new_file.csv', csv_arr)\n",
    "print(np.loadtxt('new_file.csv'))"
   ]
  },
  {
   "cell_type": "code",
   "execution_count": 246,
   "id": "7b3f28ec",
   "metadata": {},
   "outputs": [],
   "source": [
    "## https://numpy.org/doc/stable/user/absolute_beginners.html#importing-and-exporting-csv"
   ]
  },
  {
   "cell_type": "code",
   "execution_count": 250,
   "id": "40c4e71b",
   "metadata": {},
   "outputs": [
    {
     "name": "stdout",
     "output_type": "stream",
     "text": [
      "[[0 'Billie Holiday' 'Jazz' 1300000 27000000]\n",
      " [1 'Jimi Hendrix' 'Rock' 2700000 70000000]\n",
      " [2 'Miles Davis' 'Jazz' 1500000 48000000]\n",
      " [3 'SIA' 'Pop' 2000000 74000000]]\n"
     ]
    }
   ],
   "source": [
    "import pandas as pd\n",
    "\n",
    "##;;; If all of your columns are the same type:\n",
    "x = pd.read_csv('music.csv', header=0).values\n",
    "print(x)"
   ]
  },
  {
   "cell_type": "code",
   "execution_count": 252,
   "id": "b9ad6e0a",
   "metadata": {},
   "outputs": [
    {
     "name": "stdout",
     "output_type": "stream",
     "text": [
      "[['Billie Holiday' 27000000]\n",
      " ['Jimi Hendrix' 70000000]\n",
      " ['Miles Davis' 48000000]\n",
      " ['SIA' 74000000]]\n"
     ]
    }
   ],
   "source": [
    "##;;; You can also simply select the columns you need:\n",
    "x = pd.read_csv(\"music.csv\", usecols=['Artist', 'Plays']).values\n",
    "print(x)"
   ]
  },
  {
   "cell_type": "code",
   "execution_count": 254,
   "id": "20df6436",
   "metadata": {},
   "outputs": [
    {
     "name": "stdout",
     "output_type": "stream",
     "text": [
      "          0         1         2         3\n",
      "0 -2.582892  0.430148 -1.240820  1.595726\n",
      "1  0.990278  1.171510  0.941257 -0.146925\n",
      "2  0.769893  0.812997 -0.950684  0.117696\n",
      "3  0.204840  0.347845  1.969792  0.519928\n"
     ]
    }
   ],
   "source": [
    "a = np.array([[-2.58289208,  0.43014843, -1.24082018, 1.59572603],\n",
    "              [ 0.99027828, 1.17150989,  0.94125714, -0.14692469],\n",
    "              [ 0.76989341,  0.81299683, -0.95068423, 0.11769564],\n",
    "              [ 0.20484034,  0.34784527,  1.96979195, 0.51992837]])\n",
    "df = pd.DataFrame(a)\n",
    "print(df)\n",
    "df.to_csv('pd.csv')"
   ]
  },
  {
   "cell_type": "code",
   "execution_count": 255,
   "id": "572e161e",
   "metadata": {},
   "outputs": [
    {
     "name": "stdout",
     "output_type": "stream",
     "text": [
      "   Unnamed: 0         0         1         2         3\n",
      "0           0 -2.582892  0.430148 -1.240820  1.595726\n",
      "1           1  0.990278  1.171510  0.941257 -0.146925\n",
      "2           2  0.769893  0.812997 -0.950684  0.117696\n",
      "3           3  0.204840  0.347845  1.969792  0.519928\n"
     ]
    }
   ],
   "source": [
    "data = pd.read_csv('pd.csv')\n",
    "print(data)"
   ]
  },
  {
   "cell_type": "code",
   "execution_count": 256,
   "id": "3bbc1358",
   "metadata": {},
   "outputs": [],
   "source": [
    "np.savetxt('np.csv', a, fmt='%2f', delimiter=',', header='1, 2, 3, 4')"
   ]
  },
  {
   "cell_type": "code",
   "execution_count": 2,
   "id": "5bc98942",
   "metadata": {},
   "outputs": [],
   "source": [
    "## https://numpy.org/doc/stable/user/absolute_beginners.html#plotting-arrays-with-matploglib\n",
    "\n",
    "a = np.array([2, 1, 5, 7, 4, 6, 8, 14, 10, 9, 18, 20, 22])"
   ]
  },
  {
   "cell_type": "code",
   "execution_count": 2,
   "id": "1948dee7",
   "metadata": {},
   "outputs": [],
   "source": [
    "import matplotlib.pyplot as plt\n",
    "\n",
    "##;;; If you're using Jupter Notebook, you may also want to run the following line of code to display you in the notebook:\n",
    "\n",
    "%matplotlib inline"
   ]
  },
  {
   "cell_type": "code",
   "execution_count": 4,
   "id": "42da7185",
   "metadata": {},
   "outputs": [
    {
     "data": {
      "text/plain": [
       "[<matplotlib.lines.Line2D at 0x1196dad50>]"
      ]
     },
     "execution_count": 4,
     "metadata": {},
     "output_type": "execute_result"
    },
    {
     "data": {
      "image/png": "[encoded data removed]",
      "text/plain": [
       "<Figure size 640x480 with 1 Axes>"
      ]
     },
     "metadata": {},
     "output_type": "display_data"
    }
   ],
   "source": [
    "plt.plot(a)\n",
    "\n",
    "##;;; If you are running from a command line, you may need to do this:\n",
    "# plt.show()"
   ]
  },
  {
   "cell_type": "code",
   "execution_count": 5,
   "id": "3fd9793f",
   "metadata": {},
   "outputs": [
    {
     "data": {
      "text/plain": [
       "[<matplotlib.lines.Line2D at 0x11a810650>]"
      ]
     },
     "execution_count": 5,
     "metadata": {},
     "output_type": "execute_result"
    },
    {
     "data": {
      "image/png": "[encoded data removed]",
      "text/plain": [
       "<Figure size 640x480 with 1 Axes>"
      ]
     },
     "metadata": {},
     "output_type": "display_data"
    }
   ],
   "source": [
    "x = np.linspace(0, 5, 20)\n",
    "y = np.linspace(0, 10, 20)\n",
    "plt.plot(x, y, 'purple') # line\n",
    "plt.plot(x, y, 'o') # dots"
   ]
  },
  {
   "cell_type": "code",
   "execution_count": 5,
   "id": "0ac344f7",
   "metadata": {},
   "outputs": [
    {
     "data": {
      "text/plain": [
       "<mpl_toolkits.mplot3d.art3d.Poly3DCollection at 0x117836ad0>"
      ]
     },
     "execution_count": 5,
     "metadata": {},
     "output_type": "execute_result"
    },
    {
     "data": {
      "image/png": "[encoded data removed]",
      "text/plain": [
       "<Figure size 640x480 with 1 Axes>"
      ]
     },
     "metadata": {},
     "output_type": "display_data"
    }
   ],
   "source": [
    "fig = plt.figure()\n",
    "ax = fig.add_subplot(projection='3d')\n",
    "X = np.arange(-5, 5, 0.15)\n",
    "Y = np.arange(-5, 5, 0.15)\n",
    "X, Y = np.meshgrid(X, Y)\n",
    "R = np.sqrt(X**2 + Y**2)\n",
    "Z = np.sin(R)\n",
    "\n",
    "ax.plot_surface(X,Y, Z, rstride=1, cstride=1, cmap='viridis')"
   ]
  }
 ],
 "metadata": {
  "kernelspec": {
   "display_name": "Python 3 (ipykernel)",
   "language": "python",
   "name": "python3"
  },
  "language_info": {
   "codemirror_mode": {
    "name": "ipython",
    "version": 3
   },
   "file_extension": ".py",
   "mimetype": "text/x-python",
   "name": "python",
   "nbconvert_exporter": "python",
   "pygments_lexer": "ipython3",
   "version": "3.11.7"
  }
 },
 "nbformat": 4,
 "nbformat_minor": 5
}
