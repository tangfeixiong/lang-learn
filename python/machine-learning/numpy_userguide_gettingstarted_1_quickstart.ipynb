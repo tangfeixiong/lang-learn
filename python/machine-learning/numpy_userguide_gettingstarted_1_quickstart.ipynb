{
 "cells": [
  {
   "cell_type": "code",
   "execution_count": 1,
   "id": "2ca046f6",
   "metadata": {},
   "outputs": [],
   "source": [
    "# https://numpy.org/doc/stable/user/quickstart.html#numpy-quickstart\n",
    "\n",
    "## https://numpy.org/doc/stable/user/quickstart.html#prerequisites\n",
    "##;;; To work with examples, you'll need matplotlab installed in addition to NumpPy.\n",
    "\n",
    "## https://numpy.org/doc/stable/user/quickstart.html#the-basics\n",
    "##;;; NumPy's main object is homogeneous multidimentional array.\n",
    "\n",
    "### https://numpy.org/devdocs/user/quickstart.html#an-example"
   ]
  },
  {
   "cell_type": "code",
   "execution_count": 7,
   "id": "0a730a20",
   "metadata": {},
   "outputs": [
    {
     "name": "stdout",
     "output_type": "stream",
     "text": [
      "array([[ 0,  1,  2,  3,  4],\n",
      "       [ 5,  6,  7,  8,  9],\n",
      "       [10, 11, 12, 13, 14]])\n"
     ]
    }
   ],
   "source": [
    "import numpy as np\n",
    "a = np.arange(15).reshape(3, 5)\n",
    "print(ascii(a))"
   ]
  },
  {
   "cell_type": "code",
   "execution_count": 4,
   "id": "fc813de6",
   "metadata": {},
   "outputs": [
    {
     "name": "stdout",
     "output_type": "stream",
     "text": [
      "(3, 5)\n"
     ]
    }
   ],
   "source": [
    "print(a.shape)"
   ]
  },
  {
   "cell_type": "code",
   "execution_count": 5,
   "id": "d595f65a",
   "metadata": {},
   "outputs": [
    {
     "name": "stdout",
     "output_type": "stream",
     "text": [
      "int64\n"
     ]
    }
   ],
   "source": [
    "print(a.dtype.name)"
   ]
  },
  {
   "cell_type": "code",
   "execution_count": 7,
   "id": "c07f0872",
   "metadata": {},
   "outputs": [
    {
     "name": "stdout",
     "output_type": "stream",
     "text": [
      "8\n"
     ]
    }
   ],
   "source": [
    "print(a.itemsize)"
   ]
  },
  {
   "cell_type": "code",
   "execution_count": 9,
   "id": "6f3a4101",
   "metadata": {},
   "outputs": [
    {
     "name": "stdout",
     "output_type": "stream",
     "text": [
      "<class 'numpy.ndarray'>\n"
     ]
    }
   ],
   "source": [
    "print(type(a))"
   ]
  },
  {
   "cell_type": "code",
   "execution_count": 10,
   "id": "a33e0286",
   "metadata": {},
   "outputs": [
    {
     "name": "stdout",
     "output_type": "stream",
     "text": [
      "array([6, 7, 8])\n"
     ]
    }
   ],
   "source": [
    "b = np.array([6, 7, 8])\n",
    "print(repr(b))"
   ]
  },
  {
   "cell_type": "code",
   "execution_count": 11,
   "id": "f74e426f",
   "metadata": {},
   "outputs": [
    {
     "name": "stdout",
     "output_type": "stream",
     "text": [
      "<class 'numpy.ndarray'>\n"
     ]
    }
   ],
   "source": [
    "print(type(b))"
   ]
  },
  {
   "cell_type": "code",
   "execution_count": 8,
   "id": "0d2fdccc",
   "metadata": {},
   "outputs": [],
   "source": [
    "### https://numpy.org/doc/stable/user/quickstart.html#array-creation"
   ]
  },
  {
   "cell_type": "code",
   "execution_count": 9,
   "id": "281f5acc",
   "metadata": {},
   "outputs": [
    {
     "name": "stdout",
     "output_type": "stream",
     "text": [
      "[2 3 4]\n"
     ]
    }
   ],
   "source": [
    "import numpy as np\n",
    "a = np.array([2, 3, 4])\n",
    "print(a)"
   ]
  },
  {
   "cell_type": "code",
   "execution_count": 10,
   "id": "8ec827be",
   "metadata": {},
   "outputs": [
    {
     "name": "stdout",
     "output_type": "stream",
     "text": [
      "int64\n"
     ]
    }
   ],
   "source": [
    "print(a.dtype)"
   ]
  },
  {
   "cell_type": "code",
   "execution_count": 11,
   "id": "7a515847",
   "metadata": {},
   "outputs": [
    {
     "name": "stdout",
     "output_type": "stream",
     "text": [
      "float64\n"
     ]
    }
   ],
   "source": [
    "b = np.array([1.2, 3.5, 5.1])\n",
    "print(b.dtype)"
   ]
  },
  {
   "cell_type": "code",
   "execution_count": 17,
   "id": "a73126bf",
   "metadata": {},
   "outputs": [
    {
     "name": "stdout",
     "output_type": "stream",
     "text": [
      "<class 'TypeError'> array() takes from 1 to 2 positional arguments but 4 were given\n"
     ]
    }
   ],
   "source": [
    "try:\n",
    "    a = np.array(1, 2, 3, 4) # WRONG\n",
    "except Exception as err:\n",
    "    print(type(err), err)\n",
    "a = np.array([1, 2, 3, 4]) # RIGHT"
   ]
  },
  {
   "cell_type": "code",
   "execution_count": 18,
   "id": "920443d9",
   "metadata": {},
   "outputs": [
    {
     "name": "stdout",
     "output_type": "stream",
     "text": [
      "[[1.5 2.  3. ]\n",
      " [4.  5.  6. ]]\n"
     ]
    }
   ],
   "source": [
    "b = np.array([(1.5, 2, 3), (4, 5, 6)])\n",
    "print(b)"
   ]
  },
  {
   "cell_type": "code",
   "execution_count": 19,
   "id": "2693783b",
   "metadata": {},
   "outputs": [
    {
     "name": "stdout",
     "output_type": "stream",
     "text": [
      "[[1.+0.j 2.+0.j]\n",
      " [3.+0.j 4.+0.j]]\n"
     ]
    }
   ],
   "source": [
    "c = np.array([[1, 2], [3, 4]], dtype=complex)\n",
    "print(c)"
   ]
  },
  {
   "cell_type": "code",
   "execution_count": 27,
   "id": "cc8a0e48",
   "metadata": {},
   "outputs": [
    {
     "name": "stdout",
     "output_type": "stream",
     "text": [
      "array([[0., 0., 0., 0.],\n",
      "       [0., 0., 0., 0.],\n",
      "       [0., 0., 0., 0.]])\n"
     ]
    }
   ],
   "source": [
    "print(repr(np.zeros((3, 4))))"
   ]
  },
  {
   "cell_type": "code",
   "execution_count": 26,
   "id": "fc5c7194",
   "metadata": {},
   "outputs": [
    {
     "name": "stdout",
     "output_type": "stream",
     "text": [
      "array([[[1, 1, 1, 1],\n",
      "        [1, 1, 1, 1],\n",
      "        [1, 1, 1, 1]],\n",
      "\n",
      "       [[1, 1, 1, 1],\n",
      "        [1, 1, 1, 1],\n",
      "        [1, 1, 1, 1]]], dtype=int16)\n"
     ]
    }
   ],
   "source": [
    "print(ascii(np.ones((2, 3, 4), dtype=np.int16)))"
   ]
  },
  {
   "cell_type": "code",
   "execution_count": 28,
   "id": "f01b52e8",
   "metadata": {},
   "outputs": [
    {
     "name": "stdout",
     "output_type": "stream",
     "text": [
      "array([[1.39069238e-309, 1.39069238e-309, 1.39069238e-309],\n",
      "       [1.39069238e-309, 1.39069238e-309, 1.39069238e-309]])\n"
     ]
    }
   ],
   "source": [
    "print(repr(np.empty((2, 3)))) # may vary"
   ]
  },
  {
   "cell_type": "code",
   "execution_count": 29,
   "id": "08e8361b",
   "metadata": {},
   "outputs": [
    {
     "name": "stdout",
     "output_type": "stream",
     "text": [
      "[10 15 20 25]\n",
      "[0.  0.3 0.6 0.9 1.2 1.5 1.8]\n"
     ]
    }
   ],
   "source": [
    "print(np.arange(10, 30, 5))\n",
    "print(np.arange(0, 2, 0.3)) # it accepts float numbers"
   ]
  },
  {
   "cell_type": "code",
   "execution_count": 30,
   "id": "d6b05122",
   "metadata": {},
   "outputs": [
    {
     "name": "stdout",
     "output_type": "stream",
     "text": [
      "[0.   0.25 0.5  0.75 1.   1.25 1.5  1.75 2.  ]\n",
      "[ 0.00000000e+00  6.34239197e-02  1.26592454e-01  1.89251244e-01\n",
      "  2.51147987e-01  3.12033446e-01  3.71662456e-01  4.29794912e-01\n",
      "  4.86196736e-01  5.40640817e-01  5.92907929e-01  6.42787610e-01\n",
      "  6.90079011e-01  7.34591709e-01  7.76146464e-01  8.14575952e-01\n",
      "  8.49725430e-01  8.81453363e-01  9.09631995e-01  9.34147860e-01\n",
      "  9.54902241e-01  9.71811568e-01  9.84807753e-01  9.93838464e-01\n",
      "  9.98867339e-01  9.99874128e-01  9.96854776e-01  9.89821442e-01\n",
      "  9.78802446e-01  9.63842159e-01  9.45000819e-01  9.22354294e-01\n",
      "  8.95993774e-01  8.66025404e-01  8.32569855e-01  7.95761841e-01\n",
      "  7.55749574e-01  7.12694171e-01  6.66769001e-01  6.18158986e-01\n",
      "  5.67059864e-01  5.13677392e-01  4.58226522e-01  4.00930535e-01\n",
      "  3.42020143e-01  2.81732557e-01  2.20310533e-01  1.58001396e-01\n",
      "  9.50560433e-02  3.17279335e-02 -3.17279335e-02 -9.50560433e-02\n",
      " -1.58001396e-01 -2.20310533e-01 -2.81732557e-01 -3.42020143e-01\n",
      " -4.00930535e-01 -4.58226522e-01 -5.13677392e-01 -5.67059864e-01\n",
      " -6.18158986e-01 -6.66769001e-01 -7.12694171e-01 -7.55749574e-01\n",
      " -7.95761841e-01 -8.32569855e-01 -8.66025404e-01 -8.95993774e-01\n",
      " -9.22354294e-01 -9.45000819e-01 -9.63842159e-01 -9.78802446e-01\n",
      " -9.89821442e-01 -9.96854776e-01 -9.99874128e-01 -9.98867339e-01\n",
      " -9.93838464e-01 -9.84807753e-01 -9.71811568e-01 -9.54902241e-01\n",
      " -9.34147860e-01 -9.09631995e-01 -8.81453363e-01 -8.49725430e-01\n",
      " -8.14575952e-01 -7.76146464e-01 -7.34591709e-01 -6.90079011e-01\n",
      " -6.42787610e-01 -5.92907929e-01 -5.40640817e-01 -4.86196736e-01\n",
      " -4.29794912e-01 -3.71662456e-01 -3.12033446e-01 -2.51147987e-01\n",
      " -1.89251244e-01 -1.26592454e-01 -6.34239197e-02 -2.44929360e-16]\n"
     ]
    }
   ],
   "source": [
    "from numpy import pi\n",
    "print(np.linspace(0, 2, 9)) # 9 numbers from 0 to 2\n",
    "x = np.linspace(0, 2 * pi, 100) # useful to evaluate function at lots of points\n",
    "f = np.sin(x)\n",
    "print(f)"
   ]
  },
  {
   "cell_type": "code",
   "execution_count": 31,
   "id": "b2583091",
   "metadata": {},
   "outputs": [],
   "source": [
    "### https://numpy.org/devdocs/user/quickstart.html#printing-arrays"
   ]
  },
  {
   "cell_type": "code",
   "execution_count": 32,
   "id": "af041254",
   "metadata": {},
   "outputs": [
    {
     "name": "stdout",
     "output_type": "stream",
     "text": [
      "[0 1 2 3 4 5]\n"
     ]
    }
   ],
   "source": [
    "a = np.arange(6) # 1d array\n",
    "print(a)"
   ]
  },
  {
   "cell_type": "code",
   "execution_count": 33,
   "id": "617195bc",
   "metadata": {},
   "outputs": [
    {
     "name": "stdout",
     "output_type": "stream",
     "text": [
      "[[ 0  1  2]\n",
      " [ 3  4  5]\n",
      " [ 6  7  8]\n",
      " [ 9 10 11]]\n"
     ]
    }
   ],
   "source": [
    "b = np.arange(12).reshape(4, 3) # 2d array\n",
    "print(b)"
   ]
  },
  {
   "cell_type": "code",
   "execution_count": 34,
   "id": "2dde08a3",
   "metadata": {},
   "outputs": [
    {
     "name": "stdout",
     "output_type": "stream",
     "text": [
      "[[[ 0  1  2  3]\n",
      "  [ 4  5  6  7]\n",
      "  [ 8  9 10 11]]\n",
      "\n",
      " [[12 13 14 15]\n",
      "  [16 17 18 19]\n",
      "  [20 21 22 23]]]\n"
     ]
    }
   ],
   "source": [
    "c = np.arange(24).reshape(2, 3, 4) # 3d array\n",
    "print(c)"
   ]
  },
  {
   "cell_type": "code",
   "execution_count": 38,
   "id": "dd62757e",
   "metadata": {},
   "outputs": [
    {
     "name": "stdout",
     "output_type": "stream",
     "text": [
      "[   0    1    2 ... 9997 9998 9999]\n"
     ]
    }
   ],
   "source": [
    "import sys\n",
    "np.set_printoptions(threshold=0)\n",
    "print(np.arange(10000))"
   ]
  },
  {
   "cell_type": "code",
   "execution_count": 39,
   "id": "7db21580",
   "metadata": {},
   "outputs": [
    {
     "name": "stdout",
     "output_type": "stream",
     "text": [
      "[[  0   1   2   3   4   5   6   7   8   9  10  11  12  13  14  15  16  17\n",
      "   18  19  20  21  22  23  24  25  26  27  28  29  30  31  32  33  34  35\n",
      "   36  37  38  39  40  41  42  43  44  45  46  47  48  49  50  51  52  53\n",
      "   54  55  56  57  58  59  60  61  62  63  64  65  66  67  68  69  70  71\n",
      "   72  73  74  75  76  77  78  79  80  81  82  83  84  85  86  87  88  89\n",
      "   90  91  92  93  94  95  96  97  98  99]\n",
      " [100 101 102 103 104 105 106 107 108 109 110 111 112 113 114 115 116 117\n",
      "  118 119 120 121 122 123 124 125 126 127 128 129 130 131 132 133 134 135\n",
      "  136 137 138 139 140 141 142 143 144 145 146 147 148 149 150 151 152 153\n",
      "  154 155 156 157 158 159 160 161 162 163 164 165 166 167 168 169 170 171\n",
      "  172 173 174 175 176 177 178 179 180 181 182 183 184 185 186 187 188 189\n",
      "  190 191 192 193 194 195 196 197 198 199]\n",
      " [200 201 202 203 204 205 206 207 208 209 210 211 212 213 214 215 216 217\n",
      "  218 219 220 221 222 223 224 225 226 227 228 229 230 231 232 233 234 235\n",
      "  236 237 238 239 240 241 242 243 244 245 246 247 248 249 250 251 252 253\n",
      "  254 255 256 257 258 259 260 261 262 263 264 265 266 267 268 269 270 271\n",
      "  272 273 274 275 276 277 278 279 280 281 282 283 284 285 286 287 288 289\n",
      "  290 291 292 293 294 295 296 297 298 299]\n",
      " [300 301 302 303 304 305 306 307 308 309 310 311 312 313 314 315 316 317\n",
      "  318 319 320 321 322 323 324 325 326 327 328 329 330 331 332 333 334 335\n",
      "  336 337 338 339 340 341 342 343 344 345 346 347 348 349 350 351 352 353\n",
      "  354 355 356 357 358 359 360 361 362 363 364 365 366 367 368 369 370 371\n",
      "  372 373 374 375 376 377 378 379 380 381 382 383 384 385 386 387 388 389\n",
      "  390 391 392 393 394 395 396 397 398 399]\n",
      " [400 401 402 403 404 405 406 407 408 409 410 411 412 413 414 415 416 417\n",
      "  418 419 420 421 422 423 424 425 426 427 428 429 430 431 432 433 434 435\n",
      "  436 437 438 439 440 441 442 443 444 445 446 447 448 449 450 451 452 453\n",
      "  454 455 456 457 458 459 460 461 462 463 464 465 466 467 468 469 470 471\n",
      "  472 473 474 475 476 477 478 479 480 481 482 483 484 485 486 487 488 489\n",
      "  490 491 492 493 494 495 496 497 498 499]\n",
      " [500 501 502 503 504 505 506 507 508 509 510 511 512 513 514 515 516 517\n",
      "  518 519 520 521 522 523 524 525 526 527 528 529 530 531 532 533 534 535\n",
      "  536 537 538 539 540 541 542 543 544 545 546 547 548 549 550 551 552 553\n",
      "  554 555 556 557 558 559 560 561 562 563 564 565 566 567 568 569 570 571\n",
      "  572 573 574 575 576 577 578 579 580 581 582 583 584 585 586 587 588 589\n",
      "  590 591 592 593 594 595 596 597 598 599]\n",
      " [600 601 602 603 604 605 606 607 608 609 610 611 612 613 614 615 616 617\n",
      "  618 619 620 621 622 623 624 625 626 627 628 629 630 631 632 633 634 635\n",
      "  636 637 638 639 640 641 642 643 644 645 646 647 648 649 650 651 652 653\n",
      "  654 655 656 657 658 659 660 661 662 663 664 665 666 667 668 669 670 671\n",
      "  672 673 674 675 676 677 678 679 680 681 682 683 684 685 686 687 688 689\n",
      "  690 691 692 693 694 695 696 697 698 699]\n",
      " [700 701 702 703 704 705 706 707 708 709 710 711 712 713 714 715 716 717\n",
      "  718 719 720 721 722 723 724 725 726 727 728 729 730 731 732 733 734 735\n",
      "  736 737 738 739 740 741 742 743 744 745 746 747 748 749 750 751 752 753\n",
      "  754 755 756 757 758 759 760 761 762 763 764 765 766 767 768 769 770 771\n",
      "  772 773 774 775 776 777 778 779 780 781 782 783 784 785 786 787 788 789\n",
      "  790 791 792 793 794 795 796 797 798 799]\n",
      " [800 801 802 803 804 805 806 807 808 809 810 811 812 813 814 815 816 817\n",
      "  818 819 820 821 822 823 824 825 826 827 828 829 830 831 832 833 834 835\n",
      "  836 837 838 839 840 841 842 843 844 845 846 847 848 849 850 851 852 853\n",
      "  854 855 856 857 858 859 860 861 862 863 864 865 866 867 868 869 870 871\n",
      "  872 873 874 875 876 877 878 879 880 881 882 883 884 885 886 887 888 889\n",
      "  890 891 892 893 894 895 896 897 898 899]\n",
      " [900 901 902 903 904 905 906 907 908 909 910 911 912 913 914 915 916 917\n",
      "  918 919 920 921 922 923 924 925 926 927 928 929 930 931 932 933 934 935\n",
      "  936 937 938 939 940 941 942 943 944 945 946 947 948 949 950 951 952 953\n",
      "  954 955 956 957 958 959 960 961 962 963 964 965 966 967 968 969 970 971\n",
      "  972 973 974 975 976 977 978 979 980 981 982 983 984 985 986 987 988 989\n",
      "  990 991 992 993 994 995 996 997 998 999]]\n"
     ]
    }
   ],
   "source": [
    "np.set_printoptions(threshold=sys.maxsize)\n",
    "print(np.arange(1000).reshape(10, 100))"
   ]
  },
  {
   "cell_type": "code",
   "execution_count": 40,
   "id": "80fd3ad4",
   "metadata": {},
   "outputs": [],
   "source": [
    "## https://numpy.org/devdocs/user/quickstart.html#basic-operations"
   ]
  },
  {
   "cell_type": "code",
   "execution_count": 41,
   "id": "6a1f8261",
   "metadata": {},
   "outputs": [
    {
     "name": "stdout",
     "output_type": "stream",
     "text": [
      "[0 1 2 3]\n"
     ]
    }
   ],
   "source": [
    "a = np.array([20, 30, 40, 50])\n",
    "b = np.arange(4)\n",
    "print(b)"
   ]
  },
  {
   "cell_type": "code",
   "execution_count": 42,
   "id": "c5a5319b",
   "metadata": {},
   "outputs": [
    {
     "name": "stdout",
     "output_type": "stream",
     "text": [
      "[20 29 38 47]\n"
     ]
    }
   ],
   "source": [
    "c = a - b\n",
    "print(c)"
   ]
  },
  {
   "cell_type": "code",
   "execution_count": 43,
   "id": "0af5e2bc",
   "metadata": {},
   "outputs": [
    {
     "name": "stdout",
     "output_type": "stream",
     "text": [
      "[0 1 4 9]\n"
     ]
    }
   ],
   "source": [
    "print(b**2)"
   ]
  },
  {
   "cell_type": "code",
   "execution_count": 44,
   "id": "72384804",
   "metadata": {},
   "outputs": [
    {
     "name": "stdout",
     "output_type": "stream",
     "text": [
      "[ 9.12945251 -9.88031624  7.4511316  -2.62374854]\n"
     ]
    }
   ],
   "source": [
    "print(10 * np.sin(a))"
   ]
  },
  {
   "cell_type": "code",
   "execution_count": 45,
   "id": "9daf660d",
   "metadata": {},
   "outputs": [
    {
     "name": "stdout",
     "output_type": "stream",
     "text": [
      "[ True  True False False]\n"
     ]
    }
   ],
   "source": [
    "print(a < 35)"
   ]
  },
  {
   "cell_type": "code",
   "execution_count": 46,
   "id": "b840b36e",
   "metadata": {},
   "outputs": [
    {
     "name": "stdout",
     "output_type": "stream",
     "text": [
      "[[2 0]\n",
      " [0 4]]\n"
     ]
    }
   ],
   "source": [
    "A = np.array([[1, 1], [0, 1]])\n",
    "B = np.array([[2, 0], [3, 4]])\n",
    "print(A * B) # elementwist product "
   ]
  },
  {
   "cell_type": "code",
   "execution_count": 47,
   "id": "c8239213",
   "metadata": {},
   "outputs": [
    {
     "name": "stdout",
     "output_type": "stream",
     "text": [
      "[[5 4]\n",
      " [3 4]]\n"
     ]
    }
   ],
   "source": [
    "print(A @ B) # matrix product"
   ]
  },
  {
   "cell_type": "code",
   "execution_count": 48,
   "id": "10ddca91",
   "metadata": {},
   "outputs": [
    {
     "name": "stdout",
     "output_type": "stream",
     "text": [
      "[[5 4]\n",
      " [3 4]]\n"
     ]
    }
   ],
   "source": [
    "print(A.dot(B)) # another matrix product"
   ]
  },
  {
   "cell_type": "code",
   "execution_count": 49,
   "id": "4777cf86",
   "metadata": {},
   "outputs": [
    {
     "name": "stdout",
     "output_type": "stream",
     "text": [
      "[[3 3 3]\n",
      " [3 3 3]]\n"
     ]
    }
   ],
   "source": [
    "rg = np.random.default_rng(1) # create instance of default random number generator\n",
    "a = np.ones((2, 3), dtype=int)\n",
    "b = rg.random((2, 3))\n",
    "a *= 3\n",
    "print(a)"
   ]
  },
  {
   "cell_type": "code",
   "execution_count": 50,
   "id": "6d0a20d4",
   "metadata": {},
   "outputs": [
    {
     "name": "stdout",
     "output_type": "stream",
     "text": [
      "[[3.51182162 3.9504637  3.14415961]\n",
      " [3.94864945 3.31183145 3.42332645]]\n"
     ]
    }
   ],
   "source": [
    "b += a\n",
    "print(b)"
   ]
  },
  {
   "cell_type": "code",
   "execution_count": 51,
   "id": "90bca779",
   "metadata": {},
   "outputs": [
    {
     "name": "stdout",
     "output_type": "stream",
     "text": [
      "<class 'numpy.core._exceptions._UFuncOutputCastingError'> Cannot cast ufunc 'add' output from dtype('float64') to dtype('int64') with casting rule 'same_kind'\n"
     ]
    }
   ],
   "source": [
    "try:\n",
    "    a += b\n",
    "except Exception as err:\n",
    "    print(type(err), err)"
   ]
  },
  {
   "cell_type": "code",
   "execution_count": 52,
   "id": "c02252fb",
   "metadata": {},
   "outputs": [
    {
     "name": "stdout",
     "output_type": "stream",
     "text": [
      "float64\n"
     ]
    }
   ],
   "source": [
    "a = np.ones(3, dtype=np.int32)\n",
    "b = np.linspace(0, pi, 3)\n",
    "print(b.dtype.name)"
   ]
  },
  {
   "cell_type": "code",
   "execution_count": 53,
   "id": "9092b0ae",
   "metadata": {},
   "outputs": [
    {
     "name": "stdout",
     "output_type": "stream",
     "text": [
      "[1.         2.57079633 4.14159265]\n"
     ]
    }
   ],
   "source": [
    "c = a + b\n",
    "print(c)"
   ]
  },
  {
   "cell_type": "code",
   "execution_count": 54,
   "id": "072c4a9f",
   "metadata": {},
   "outputs": [
    {
     "name": "stdout",
     "output_type": "stream",
     "text": [
      "float64\n"
     ]
    }
   ],
   "source": [
    "print(c.dtype.name)"
   ]
  },
  {
   "cell_type": "code",
   "execution_count": 55,
   "id": "5c1be398",
   "metadata": {},
   "outputs": [
    {
     "name": "stdout",
     "output_type": "stream",
     "text": [
      "[ 0.54030231+0.84147098j -0.84147098+0.54030231j -0.54030231-0.84147098j]\n"
     ]
    }
   ],
   "source": [
    "d = np.exp(c * 1j)\n",
    "print(d)"
   ]
  },
  {
   "cell_type": "code",
   "execution_count": 56,
   "id": "abf628fd",
   "metadata": {},
   "outputs": [
    {
     "name": "stdout",
     "output_type": "stream",
     "text": [
      "complex128\n"
     ]
    }
   ],
   "source": [
    "print(d.dtype.name)"
   ]
  },
  {
   "cell_type": "code",
   "execution_count": 57,
   "id": "81297967",
   "metadata": {},
   "outputs": [
    {
     "name": "stdout",
     "output_type": "stream",
     "text": [
      "[[0.82770259 0.40919914 0.54959369]\n",
      " [0.02755911 0.75351311 0.53814331]]\n"
     ]
    }
   ],
   "source": [
    "a = rg.random((2, 3))\n",
    "print(a)"
   ]
  },
  {
   "cell_type": "code",
   "execution_count": 59,
   "id": "6aea00bd",
   "metadata": {},
   "outputs": [
    {
     "name": "stdout",
     "output_type": "stream",
     "text": [
      "3.1057109529998157 0.027559113243068367 0.8277025938204418\n"
     ]
    }
   ],
   "source": [
    "print(a.sum(), a.min(), a.max())"
   ]
  },
  {
   "cell_type": "code",
   "execution_count": 60,
   "id": "d2720791",
   "metadata": {},
   "outputs": [
    {
     "name": "stdout",
     "output_type": "stream",
     "text": [
      "[[ 0  1  2  3]\n",
      " [ 4  5  6  7]\n",
      " [ 8  9 10 11]]\n"
     ]
    }
   ],
   "source": [
    "b = np.arange(12).reshape(3, 4)\n",
    "print(b)"
   ]
  },
  {
   "cell_type": "code",
   "execution_count": 61,
   "id": "16b3b978",
   "metadata": {},
   "outputs": [
    {
     "name": "stdout",
     "output_type": "stream",
     "text": [
      "[12 15 18 21]\n"
     ]
    }
   ],
   "source": [
    "print(b.sum(axis=0)) # sum of each column"
   ]
  },
  {
   "cell_type": "code",
   "execution_count": 62,
   "id": "d967c381",
   "metadata": {},
   "outputs": [
    {
     "name": "stdout",
     "output_type": "stream",
     "text": [
      "[0 4 8]\n"
     ]
    }
   ],
   "source": [
    "print(b.min(axis=1)) # min of each row"
   ]
  },
  {
   "cell_type": "code",
   "execution_count": 63,
   "id": "203fb371",
   "metadata": {},
   "outputs": [
    {
     "name": "stdout",
     "output_type": "stream",
     "text": [
      "[[ 0  1  3  6]\n",
      " [ 4  9 15 22]\n",
      " [ 8 17 27 38]]\n"
     ]
    }
   ],
   "source": [
    "print(b.cumsum(axis=1)) # cumulative sum along each row"
   ]
  },
  {
   "cell_type": "code",
   "execution_count": 64,
   "id": "30a19c9a",
   "metadata": {},
   "outputs": [],
   "source": [
    "### https://numpy.org/devdocs/user/quickstart.html#universal-functions"
   ]
  },
  {
   "cell_type": "code",
   "execution_count": 65,
   "id": "32aef9db",
   "metadata": {},
   "outputs": [
    {
     "name": "stdout",
     "output_type": "stream",
     "text": [
      "[0 1 2]\n",
      "[1.         2.71828183 7.3890561 ]\n",
      "[0.         1.         1.41421356]\n"
     ]
    }
   ],
   "source": [
    "B = np.arange(3)\n",
    "print(B, np.exp(B), np.sqrt(B), sep='\\n')"
   ]
  },
  {
   "cell_type": "code",
   "execution_count": 66,
   "id": "83e644d7",
   "metadata": {},
   "outputs": [
    {
     "name": "stdout",
     "output_type": "stream",
     "text": [
      "[2. 0. 6.]\n"
     ]
    }
   ],
   "source": [
    "C = np.array([2., -1., 4.])\n",
    "print(np.add(B, C))"
   ]
  },
  {
   "cell_type": "code",
   "execution_count": 67,
   "id": "d19760b5",
   "metadata": {},
   "outputs": [],
   "source": [
    "### https://numpy.org/devdocs/user/quickstart.html#indexing-slicing-and-iterating"
   ]
  },
  {
   "cell_type": "code",
   "execution_count": 68,
   "id": "af5c4413",
   "metadata": {},
   "outputs": [
    {
     "name": "stdout",
     "output_type": "stream",
     "text": [
      "[  0   1   8  27  64 125 216 343 512 729]\n"
     ]
    }
   ],
   "source": [
    "a = np.arange(10)**3\n",
    "print(a)"
   ]
  },
  {
   "cell_type": "code",
   "execution_count": 69,
   "id": "d67a2f0c",
   "metadata": {},
   "outputs": [
    {
     "name": "stdout",
     "output_type": "stream",
     "text": [
      "8\n",
      "[ 8 27 64]\n"
     ]
    }
   ],
   "source": [
    "print(a[2], a[2:5], sep='\\n')"
   ]
  },
  {
   "cell_type": "code",
   "execution_count": 70,
   "id": "dd8d31c8",
   "metadata": {},
   "outputs": [
    {
     "name": "stdout",
     "output_type": "stream",
     "text": [
      "[1000    1 1000   27 1000  125  216  343  512  729]\n"
     ]
    }
   ],
   "source": [
    "###;;; equivalent to a[0:6:2] = 1000;\n",
    "###;;; from start to position 6, exclusive, set every 2nd element to 1000\n",
    "a[:6:2] = 1000\n",
    "print(a)"
   ]
  },
  {
   "cell_type": "code",
   "execution_count": 71,
   "id": "d54f9ad4",
   "metadata": {},
   "outputs": [
    {
     "name": "stdout",
     "output_type": "stream",
     "text": [
      "[ 729  512  343  216  125 1000   27 1000    1 1000]\n"
     ]
    }
   ],
   "source": [
    "print(a[::-1]) # reserved a"
   ]
  },
  {
   "cell_type": "code",
   "execution_count": 72,
   "id": "76274098",
   "metadata": {},
   "outputs": [
    {
     "name": "stdout",
     "output_type": "stream",
     "text": [
      "9.284145445194744\n",
      "1.0\n",
      "9.284145445194744\n",
      "2.8955445183603583\n",
      "9.284145445194744\n",
      "4.747036651020787\n",
      "5.663039581906992\n",
      "6.574107674340331\n",
      "7.480972390526776\n",
      "8.38417805780672\n"
     ]
    }
   ],
   "source": [
    "for i in a:\n",
    "    print(i**(1 / 3.1))"
   ]
  },
  {
   "cell_type": "code",
   "execution_count": 74,
   "id": "ff0c7762",
   "metadata": {},
   "outputs": [
    {
     "name": "stdout",
     "output_type": "stream",
     "text": [
      "[[ 0  1  2  3]\n",
      " [10 11 12 13]\n",
      " [20 21 22 23]\n",
      " [30 31 32 33]\n",
      " [40 41 42 43]]\n"
     ]
    }
   ],
   "source": [
    "def f(x, y):\n",
    "    return 10 * x + y\n",
    "\n",
    "b = np.fromfunction(f, (5, 4), dtype = int)\n",
    "print(b)"
   ]
  },
  {
   "cell_type": "code",
   "execution_count": 75,
   "id": "95340086",
   "metadata": {},
   "outputs": [
    {
     "name": "stdout",
     "output_type": "stream",
     "text": [
      "23\n"
     ]
    }
   ],
   "source": [
    "print(b[2, 3])"
   ]
  },
  {
   "cell_type": "code",
   "execution_count": 77,
   "id": "b58e9214",
   "metadata": {},
   "outputs": [
    {
     "name": "stdout",
     "output_type": "stream",
     "text": [
      "[ 1 11 21 31 41]\n"
     ]
    }
   ],
   "source": [
    "print(b[0:5, 1]) # each row in the second column of b"
   ]
  },
  {
   "cell_type": "code",
   "execution_count": 78,
   "id": "83d801ae",
   "metadata": {},
   "outputs": [
    {
     "name": "stdout",
     "output_type": "stream",
     "text": [
      "[ 1 11 21 31 41]\n"
     ]
    }
   ],
   "source": [
    "print(b[:, 1]) # equivalent to the previous example"
   ]
  },
  {
   "cell_type": "code",
   "execution_count": 79,
   "id": "c54cad61",
   "metadata": {},
   "outputs": [
    {
     "name": "stdout",
     "output_type": "stream",
     "text": [
      "[[10 11 12 13]\n",
      " [20 21 22 23]]\n"
     ]
    }
   ],
   "source": [
    "print(b[1:3, :]) # each column in the second and third row of b"
   ]
  },
  {
   "cell_type": "code",
   "execution_count": 80,
   "id": "be615122",
   "metadata": {},
   "outputs": [
    {
     "name": "stdout",
     "output_type": "stream",
     "text": [
      "[40 41 42 43]\n"
     ]
    }
   ],
   "source": [
    "print(b[-1]) # the last row. Equivalent to b[-1, :]"
   ]
  },
  {
   "cell_type": "code",
   "execution_count": 81,
   "id": "e2ac7477",
   "metadata": {},
   "outputs": [
    {
     "name": "stdout",
     "output_type": "stream",
     "text": [
      "(2, 2, 3)\n",
      "[[100 101 102]\n",
      " [110 112 113]]\n"
     ]
    }
   ],
   "source": [
    "c = np.array([[[0, 1, 2], # a 3D array (two stacked 2D arrays)\n",
    "               [10, 12, 13]],\n",
    "              [[100, 101, 102],\n",
    "               [110, 112, 113]]])\n",
    "print(c.shape)\n",
    "print(c[1, ...]) # same as c[1, :, :] or c[1]"
   ]
  },
  {
   "cell_type": "code",
   "execution_count": 82,
   "id": "8560b451",
   "metadata": {},
   "outputs": [
    {
     "name": "stdout",
     "output_type": "stream",
     "text": [
      "[[  2  13]\n",
      " [102 113]]\n"
     ]
    }
   ],
   "source": [
    "print(c[..., 2]) # same as c[:, :, 2]"
   ]
  },
  {
   "cell_type": "code",
   "execution_count": 83,
   "id": "c4ccd4db",
   "metadata": {},
   "outputs": [
    {
     "name": "stdout",
     "output_type": "stream",
     "text": [
      "[0 1 2 3]\n",
      "[10 11 12 13]\n",
      "[20 21 22 23]\n",
      "[30 31 32 33]\n",
      "[40 41 42 43]\n"
     ]
    }
   ],
   "source": [
    "for row in b:\n",
    "    print(row)"
   ]
  },
  {
   "cell_type": "code",
   "execution_count": 84,
   "id": "3cd6138e",
   "metadata": {},
   "outputs": [
    {
     "name": "stdout",
     "output_type": "stream",
     "text": [
      "0\n",
      "1\n",
      "2\n",
      "3\n",
      "10\n",
      "11\n",
      "12\n",
      "13\n",
      "20\n",
      "21\n",
      "22\n",
      "23\n",
      "30\n",
      "31\n",
      "32\n",
      "33\n",
      "40\n",
      "41\n",
      "42\n",
      "43\n"
     ]
    }
   ],
   "source": [
    "for element in b.flat:\n",
    "    print(element)"
   ]
  },
  {
   "cell_type": "code",
   "execution_count": null,
   "id": "3640fe3a",
   "metadata": {},
   "outputs": [],
   "source": [
    "## https://numpy.org/devdocs/user/quickstart.html#shape-manipulation\n",
    "### https://numpy.org/devdocs/user/quickstart.html#change-the-shape-of-an-array"
   ]
  },
  {
   "cell_type": "code",
   "execution_count": 96,
   "id": "f93b02eb",
   "metadata": {},
   "outputs": [
    {
     "name": "stdout",
     "output_type": "stream",
     "text": [
      "[[0. 5. 4. 0.]\n",
      " [6. 8. 5. 2.]\n",
      " [8. 5. 5. 7.]]\n",
      "(3, 4)\n"
     ]
    }
   ],
   "source": [
    "a = np.floor(10 * rg.random((3, 4)))\n",
    "print(a, a.shape, sep='\\n')"
   ]
  },
  {
   "cell_type": "code",
   "execution_count": 97,
   "id": "520d9321",
   "metadata": {},
   "outputs": [
    {
     "name": "stdout",
     "output_type": "stream",
     "text": [
      "[0. 5. 4. 0. 6. 8. 5. 2. 8. 5. 5. 7.]\n",
      "[[0. 5.]\n",
      " [4. 0.]\n",
      " [6. 8.]\n",
      " [5. 2.]\n",
      " [8. 5.]\n",
      " [5. 7.]]\n",
      "[[0. 6. 8.]\n",
      " [5. 8. 5.]\n",
      " [4. 5. 5.]\n",
      " [0. 2. 7.]]\n",
      "(4, 3) (3, 4)\n"
     ]
    }
   ],
   "source": [
    "print(a.ravel()) # returns the array, flattend\n",
    "print(a.reshape(6, 2)) # returns the array with a modified shape\n",
    "print(a.T) # returns the array, transposed\n",
    "print(a.T.shape, a.shape)"
   ]
  },
  {
   "cell_type": "code",
   "execution_count": 98,
   "id": "3510e6a1",
   "metadata": {},
   "outputs": [
    {
     "name": "stdout",
     "output_type": "stream",
     "text": [
      "[[0. 5. 4. 0.]\n",
      " [6. 8. 5. 2.]\n",
      " [8. 5. 5. 7.]]\n",
      "[[0. 5. 4. 0. 6. 8.]\n",
      " [5. 2. 8. 5. 5. 7.]]\n"
     ]
    }
   ],
   "source": [
    "print(a)\n",
    "a.resize((2, 6))\n",
    "print(a)"
   ]
  },
  {
   "cell_type": "code",
   "execution_count": 99,
   "id": "1840836e",
   "metadata": {},
   "outputs": [
    {
     "name": "stdout",
     "output_type": "stream",
     "text": [
      "[[0. 5. 4. 0.]\n",
      " [6. 8. 5. 2.]\n",
      " [8. 5. 5. 7.]]\n"
     ]
    }
   ],
   "source": [
    "print(a.reshape(3, -1))"
   ]
  },
  {
   "cell_type": "code",
   "execution_count": 100,
   "id": "13da2030",
   "metadata": {},
   "outputs": [],
   "source": [
    "### https://numpy.org/devdocs/user/quickstart.html#stacking-together-different-arrays"
   ]
  },
  {
   "cell_type": "code",
   "execution_count": 101,
   "id": "20c55c64",
   "metadata": {},
   "outputs": [
    {
     "name": "stdout",
     "output_type": "stream",
     "text": [
      "[[1. 8.]\n",
      " [6. 7.]]\n",
      "[[1. 8.]\n",
      " [1. 0.]]\n",
      "[[1. 8.]\n",
      " [6. 7.]\n",
      " [1. 8.]\n",
      " [1. 0.]]\n",
      "[[1. 8. 1. 8.]\n",
      " [6. 7. 1. 0.]]\n"
     ]
    }
   ],
   "source": [
    "a = np.floor(10 * rg.random((2, 2)))\n",
    "b = np.floor(10 * rg.random((2, 2)))\n",
    "print(a, b, sep='\\n')\n",
    "print(np.vstack((a, b)), np.hstack((a, b)), sep='\\n')"
   ]
  },
  {
   "cell_type": "code",
   "execution_count": 102,
   "id": "4fd35e38",
   "metadata": {},
   "outputs": [
    {
     "name": "stdout",
     "output_type": "stream",
     "text": [
      "[[1. 8. 1. 8.]\n",
      " [6. 7. 1. 0.]]\n"
     ]
    }
   ],
   "source": [
    "from numpy import newaxis\n",
    "print(np.column_stack((a, b))) # with 2D arrays"
   ]
  },
  {
   "cell_type": "code",
   "execution_count": 103,
   "id": "a48bad45",
   "metadata": {},
   "outputs": [
    {
     "name": "stdout",
     "output_type": "stream",
     "text": [
      "[[4. 3.]\n",
      " [2. 8.]]\n"
     ]
    }
   ],
   "source": [
    "a = np.array([4., 2.])\n",
    "b = np.array([3., 8.])\n",
    "print(np.column_stack((a, b))) # returns a 2D array"
   ]
  },
  {
   "cell_type": "code",
   "execution_count": 104,
   "id": "7f290dbd",
   "metadata": {},
   "outputs": [
    {
     "name": "stdout",
     "output_type": "stream",
     "text": [
      "[4. 2. 3. 8.]\n"
     ]
    }
   ],
   "source": [
    "print(np.hstack((a, b))) # the result is different"
   ]
  },
  {
   "cell_type": "code",
   "execution_count": 105,
   "id": "3c261475",
   "metadata": {},
   "outputs": [
    {
     "name": "stdout",
     "output_type": "stream",
     "text": [
      "[[4.]\n",
      " [2.]]\n"
     ]
    }
   ],
   "source": [
    "print(a[:, newaxis]) # view `a` as a 2D column vector"
   ]
  },
  {
   "cell_type": "code",
   "execution_count": 106,
   "id": "62d9bfdc",
   "metadata": {},
   "outputs": [
    {
     "name": "stdout",
     "output_type": "stream",
     "text": [
      "[[4. 3.]\n",
      " [2. 8.]]\n"
     ]
    }
   ],
   "source": [
    "print(np.column_stack((a[:, newaxis], b[:, newaxis])))"
   ]
  },
  {
   "cell_type": "code",
   "execution_count": 107,
   "id": "7386a939",
   "metadata": {},
   "outputs": [
    {
     "name": "stdout",
     "output_type": "stream",
     "text": [
      "[[4. 3.]\n",
      " [2. 8.]]\n"
     ]
    }
   ],
   "source": [
    "print(np.hstack((a[:, newaxis], b[:, newaxis]))) # the result is the same"
   ]
  },
  {
   "cell_type": "code",
   "execution_count": 108,
   "id": "fb9635ad",
   "metadata": {},
   "outputs": [
    {
     "name": "stdout",
     "output_type": "stream",
     "text": [
      "False\n",
      "True\n"
     ]
    }
   ],
   "source": [
    "print(np.column_stack is np.hstack)\n",
    "print(np.row_stack is np.vstack)"
   ]
  },
  {
   "cell_type": "code",
   "execution_count": 109,
   "id": "003c7e94",
   "metadata": {},
   "outputs": [
    {
     "name": "stdout",
     "output_type": "stream",
     "text": [
      "[1 2 3 0 4]\n"
     ]
    }
   ],
   "source": [
    "print(np.r_[1:4, 0, 4])"
   ]
  },
  {
   "cell_type": "code",
   "execution_count": 110,
   "id": "34994bec",
   "metadata": {},
   "outputs": [],
   "source": [
    "### https://numpy.org/devdocs/user/quickstart.html#splitting-one-array-into-several-smaller-ones"
   ]
  },
  {
   "cell_type": "code",
   "execution_count": 111,
   "id": "c0269b74",
   "metadata": {},
   "outputs": [
    {
     "name": "stdout",
     "output_type": "stream",
     "text": [
      "[[8. 8. 8. 4. 2. 0. 6. 7. 8. 2. 2. 6.]\n",
      " [8. 9. 1. 4. 8. 4. 5. 0. 6. 9. 8. 8.]]\n"
     ]
    }
   ],
   "source": [
    "a = np.floor(10 * rg.random((2, 12)))\n",
    "print(a)"
   ]
  },
  {
   "cell_type": "code",
   "execution_count": 112,
   "id": "f7d82050",
   "metadata": {},
   "outputs": [
    {
     "name": "stdout",
     "output_type": "stream",
     "text": [
      "[array([[8., 8., 8., 4.],\n",
      "       [8., 9., 1., 4.]]), array([[2., 0., 6., 7.],\n",
      "       [8., 4., 5., 0.]]), array([[8., 2., 2., 6.],\n",
      "       [6., 9., 8., 8.]])]\n"
     ]
    }
   ],
   "source": [
    "###;;; Split `a` into 3\n",
    "print(np.hsplit(a, 3))"
   ]
  },
  {
   "cell_type": "code",
   "execution_count": 114,
   "id": "ed617f01",
   "metadata": {},
   "outputs": [
    {
     "name": "stdout",
     "output_type": "stream",
     "text": [
      "[array([[8., 8., 8.],\n",
      "       [8., 9., 1.]]), array([[4.],\n",
      "       [4.]]), array([[2., 0., 6., 7., 8., 2., 2., 6.],\n",
      "       [8., 4., 5., 0., 6., 9., 8., 8.]])]\n"
     ]
    }
   ],
   "source": [
    "###;;; Split `a` after the third and the fourth column\n",
    "print(np.hsplit(a, (3, 4)))"
   ]
  },
  {
   "cell_type": "code",
   "execution_count": 115,
   "id": "9d09f1a2",
   "metadata": {},
   "outputs": [],
   "source": [
    "## https://numpy.org/devdocs/user/quickstart.html#copies-and-views\n",
    "\n",
    "### https://numpy.org/devdocs/user/quickstart.html#no-copy-at-all"
   ]
  },
  {
   "cell_type": "code",
   "execution_count": 116,
   "id": "69a3b422",
   "metadata": {},
   "outputs": [
    {
     "name": "stdout",
     "output_type": "stream",
     "text": [
      "True\n"
     ]
    }
   ],
   "source": [
    "a = np.array([[0, 1, 2, 3],\n",
    "              [4, 5, 6, 7],\n",
    "              [8, 9, 10, 11]])\n",
    "b = a # no new object is created\n",
    "print(b is a) # a and b are two names for the same ndarray object"
   ]
  },
  {
   "cell_type": "code",
   "execution_count": 118,
   "id": "4d92fbb3",
   "metadata": {},
   "outputs": [
    {
     "name": "stdout",
     "output_type": "stream",
     "text": [
      "4824978256\n",
      "4824978256\n"
     ]
    }
   ],
   "source": [
    "def f(x):\n",
    "    print(id(x))\n",
    "print(id(a)) # id is a unique identifier of an object\n",
    "f(a)"
   ]
  },
  {
   "cell_type": "code",
   "execution_count": 119,
   "id": "d080c9ff",
   "metadata": {},
   "outputs": [],
   "source": [
    "### https://numpy.org/devdocs/user/quickstart.html#view-or-shallow-copy"
   ]
  },
  {
   "cell_type": "code",
   "execution_count": 120,
   "id": "d0026e43",
   "metadata": {},
   "outputs": [
    {
     "name": "stdout",
     "output_type": "stream",
     "text": [
      "False\n"
     ]
    }
   ],
   "source": [
    "c = a.view()\n",
    "print(c is a)"
   ]
  },
  {
   "cell_type": "code",
   "execution_count": 121,
   "id": "1eeceb82",
   "metadata": {},
   "outputs": [
    {
     "name": "stdout",
     "output_type": "stream",
     "text": [
      "True\n"
     ]
    }
   ],
   "source": [
    "print(c.base is a) # c is a view of the data owned by a"
   ]
  },
  {
   "cell_type": "code",
   "execution_count": 122,
   "id": "384fbd7a",
   "metadata": {},
   "outputs": [
    {
     "name": "stdout",
     "output_type": "stream",
     "text": [
      "False\n"
     ]
    }
   ],
   "source": [
    "print(c.flags.owndata)"
   ]
  },
  {
   "cell_type": "code",
   "execution_count": 123,
   "id": "0e5af530",
   "metadata": {},
   "outputs": [
    {
     "name": "stdout",
     "output_type": "stream",
     "text": [
      "(3, 4)\n",
      "[[   0    1    2    3]\n",
      " [1234    5    6    7]\n",
      " [   8    9   10   11]]\n"
     ]
    }
   ],
   "source": [
    "c = c.reshape((2, 6)) # a's shape doesn't change\n",
    "print(a.shape)\n",
    "c[0, 4] = 1234 # a's data change\n",
    "print(a)"
   ]
  },
  {
   "cell_type": "code",
   "execution_count": 124,
   "id": "cd3246a1",
   "metadata": {},
   "outputs": [
    {
     "name": "stdout",
     "output_type": "stream",
     "text": [
      "[[   0   10   10    3]\n",
      " [1234   10   10    7]\n",
      " [   8   10   10   11]]\n"
     ]
    }
   ],
   "source": [
    "s = a[:, 1:3]\n",
    "s[:] = 10 # s[:] is a view ofs. Note the difference between s = 10 and s[:] = 10\n",
    "print(a)"
   ]
  },
  {
   "cell_type": "code",
   "execution_count": 125,
   "id": "374782d0",
   "metadata": {},
   "outputs": [],
   "source": [
    "### https://numpy.org/devdocs/user/quickstart.html#deep-copy"
   ]
  },
  {
   "cell_type": "code",
   "execution_count": 126,
   "id": "4f93fdcb",
   "metadata": {},
   "outputs": [
    {
     "name": "stdout",
     "output_type": "stream",
     "text": [
      "False\n"
     ]
    }
   ],
   "source": [
    "d = a.copy() # a new array object with new data is created\n",
    "print(d is a)"
   ]
  },
  {
   "cell_type": "code",
   "execution_count": 127,
   "id": "1b11892e",
   "metadata": {},
   "outputs": [
    {
     "name": "stdout",
     "output_type": "stream",
     "text": [
      "False\n",
      "[[   0   10   10    3]\n",
      " [1234   10   10    7]\n",
      " [   8   10   10   11]]\n"
     ]
    }
   ],
   "source": [
    "print(d.base is a) # d doesn't share anything with a\n",
    "d[0, 0] = 9999\n",
    "print(a)"
   ]
  },
  {
   "cell_type": "code",
   "execution_count": 128,
   "id": "95cecbae",
   "metadata": {},
   "outputs": [
    {
     "name": "stdout",
     "output_type": "stream",
     "text": [
      "[ 0  1  2  3  4  5  6  7  8  9 10 11 12 13 14 15 16 17 18 19 20 21 22 23\n",
      " 24 25 26 27 28 29 30 31 32 33 34 35 36 37 38 39 40 41 42 43 44 45 46 47\n",
      " 48 49 50 51 52 53 54 55 56 57 58 59 60 61 62 63 64 65 66 67 68 69 70 71\n",
      " 72 73 74 75 76 77 78 79 80 81 82 83 84 85 86 87 88 89 90 91 92 93 94 95\n",
      " 96 97 98 99]\n"
     ]
    }
   ],
   "source": [
    "a = np.arange(int(1e8))\n",
    "b = a[:100].copy()\n",
    "del a # the memory of ``a`` can be released\n",
    "print(b)"
   ]
  },
  {
   "cell_type": "code",
   "execution_count": 130,
   "id": "334a8227",
   "metadata": {},
   "outputs": [],
   "source": [
    "### https://numpy.org/devdocs/user/quickstart.html#functions-and-methods-overview\n",
    "###;;; See https://numpy.org/doc/stable/reference/routines.html#routines for the full list\n",
    "\n",
    "## https://numpy.org/devdocs/user/quickstart.html#less-basic\n",
    "### https://numpy.org/devdocs/user/quickstart.html#broadcasting-rules\n",
    "###;;; More details can be found in https://numpy.org/doc/stable/user/basics.broadcasting.html#basics-broadcasting\n",
    "\n",
    "## https://numpy.org/devdocs/user/quickstart.html#advanced-indexing-and-index-tricks\n",
    "### https://numpy.org/devdocs/user/quickstart.html#indexing-with-arrays-of-indices"
   ]
  },
  {
   "cell_type": "code",
   "execution_count": 132,
   "id": "eaaf9297",
   "metadata": {},
   "outputs": [
    {
     "name": "stdout",
     "output_type": "stream",
     "text": [
      "[ 1  1  9 64 25]\n"
     ]
    }
   ],
   "source": [
    "a = np.arange(12)**2 # the first 12 square numbers\n",
    "i = np.array([1, 1, 3, 8, 5]) # an array of indices\n",
    "print(a[i]) # the elements of `a` at the position `i`"
   ]
  },
  {
   "cell_type": "code",
   "execution_count": 133,
   "id": "87903fb0",
   "metadata": {},
   "outputs": [
    {
     "name": "stdout",
     "output_type": "stream",
     "text": [
      "[[ 9 16]\n",
      " [81 49]]\n"
     ]
    }
   ],
   "source": [
    "j = np.array([[3, 4], [9, 7]]) # a bidimensional array of indices\n",
    "print(a[j]) # the same shap as `j`"
   ]
  },
  {
   "cell_type": "code",
   "execution_count": 134,
   "id": "ac33db19",
   "metadata": {},
   "outputs": [
    {
     "name": "stdout",
     "output_type": "stream",
     "text": [
      "[[[  0   0   0]\n",
      "  [255   0   0]\n",
      "  [  0 255   0]\n",
      "  [255 255 255]]\n",
      "\n",
      " [[  0   0   0]\n",
      "  [  0   0 255]\n",
      "  [255 255 255]\n",
      "  [  0   0   0]]]\n"
     ]
    }
   ],
   "source": [
    "palette = np.array([[0, 0, 0], # black\n",
    "                    [255, 0, 0], # red\n",
    "                    [0, 255, 0], # green\n",
    "                    [0, 0, 255], # blue\n",
    "                    [255, 255, 255]]) # white\n",
    "image = np.array([[0, 1, 2, 4], # each value corresponds to a color in the pallete\n",
    "                  [0, 3, 4, 0]])\n",
    "print(palette[image]) # the (2, 4, 3) color image"
   ]
  },
  {
   "cell_type": "code",
   "execution_count": 136,
   "id": "8e772379",
   "metadata": {},
   "outputs": [
    {
     "name": "stdout",
     "output_type": "stream",
     "text": [
      "[[ 0  1  2  3]\n",
      " [ 4  5  6  7]\n",
      " [ 8  9 10 11]]\n",
      "[[ 2  5]\n",
      " [ 7 11]]\n"
     ]
    }
   ],
   "source": [
    "a = np.arange(12).reshape(3, 4)\n",
    "print(a)\n",
    "i = np.array([[0, 1], [1, 2]]) # indices for the first dim of `a`\n",
    "j = np.array([[2, 1], [3, 3]]) # indices for the second dim\n",
    "print(a[i, j]) # i and j must have equal shape"
   ]
  },
  {
   "cell_type": "code",
   "execution_count": 138,
   "id": "3242e06b",
   "metadata": {},
   "outputs": [
    {
     "name": "stdout",
     "output_type": "stream",
     "text": [
      "[[ 2  6]\n",
      " [ 6 10]]\n",
      "[[[ 2  1]\n",
      "  [ 3  3]]\n",
      "\n",
      " [[ 6  5]\n",
      "  [ 7  7]]\n",
      "\n",
      " [[10  9]\n",
      "  [11 11]]]\n"
     ]
    }
   ],
   "source": [
    "print(a[i, 2], a[:, j], sep='\\n')"
   ]
  },
  {
   "cell_type": "code",
   "execution_count": 140,
   "id": "6b47aa0f",
   "metadata": {},
   "outputs": [
    {
     "name": "stdout",
     "output_type": "stream",
     "text": [
      "[[ 0  1  2  3]\n",
      " [ 4  5  6  7]\n",
      " [ 8  9 10 11]]\n"
     ]
    }
   ],
   "source": [
    "l = (i, j)\n",
    "###;;; equivalent to a[i, j]\n",
    "print(a)"
   ]
  },
  {
   "cell_type": "code",
   "execution_count": 141,
   "id": "307197cf",
   "metadata": {},
   "outputs": [
    {
     "name": "stdout",
     "output_type": "stream",
     "text": [
      "[[[0 1]\n",
      "  [1 2]]\n",
      "\n",
      " [[2 1]\n",
      "  [3 3]]]\n"
     ]
    }
   ],
   "source": [
    "s = np.array([i, j])\n",
    "print(s)"
   ]
  },
  {
   "cell_type": "code",
   "execution_count": 142,
   "id": "54fba0bf",
   "metadata": {},
   "outputs": [
    {
     "name": "stdout",
     "output_type": "stream",
     "text": [
      "<class 'IndexError'> index 3 is out of bounds for axis 0 with size 3\n",
      "[[ 2  5]\n",
      " [ 7 11]]\n"
     ]
    }
   ],
   "source": [
    "###;;; not what we want\n",
    "try:\n",
    "    print(a[s])\n",
    "except Exception as err:\n",
    "    print(type(err), err)\n",
    "###;;; same as `a[i, j]`\n",
    "print(a[tuple(s)])"
   ]
  },
  {
   "cell_type": "code",
   "execution_count": 144,
   "id": "84d24211",
   "metadata": {},
   "outputs": [
    {
     "name": "stdout",
     "output_type": "stream",
     "text": [
      "[ 20.    51.25  82.5  113.75 145.  ]\n",
      "[[ 0.          0.84147098  0.90929743  0.14112001]\n",
      " [-0.7568025  -0.95892427 -0.2794155   0.6569866 ]\n",
      " [ 0.98935825  0.41211849 -0.54402111 -0.99999021]\n",
      " [-0.53657292  0.42016704  0.99060736  0.65028784]\n",
      " [-0.28790332 -0.96139749 -0.75098725  0.14987721]]\n"
     ]
    }
   ],
   "source": [
    "time = np.linspace(20, 145, 5) # time scale\n",
    "data = np.sin(np.arange(20)).reshape(5, 4) # 4 time-dependent series\n",
    "print(time, data, sep='\\n')"
   ]
  },
  {
   "cell_type": "code",
   "execution_count": 145,
   "id": "34196c00",
   "metadata": {},
   "outputs": [
    {
     "name": "stdout",
     "output_type": "stream",
     "text": [
      "[2 0 3 1]\n"
     ]
    }
   ],
   "source": [
    "###;;; index of the maxima for each series\n",
    "ind = data.argmax(axis=0)\n",
    "print(ind)"
   ]
  },
  {
   "cell_type": "code",
   "execution_count": 147,
   "id": "adf3a6f6",
   "metadata": {},
   "outputs": [
    {
     "name": "stdout",
     "output_type": "stream",
     "text": [
      "[ 82.5   20.   113.75  51.25]\n",
      "[0.98935825 0.84147098 0.99060736 0.6569866 ]\n"
     ]
    }
   ],
   "source": [
    "###;;; times corresponding to the maxima\n",
    "time_max = time[ind]\n",
    "data_max = data[ind, range(data.shape[1])] # => data[ind[0], 0], data[ind[1], 1]...\n",
    "print(time_max, data_max, sep='\\n')"
   ]
  },
  {
   "cell_type": "code",
   "execution_count": 149,
   "id": "0f4bee24",
   "metadata": {},
   "outputs": [
    {
     "name": "stdout",
     "output_type": "stream",
     "text": [
      "True\n"
     ]
    }
   ],
   "source": [
    "print(np.all(data_max == data.max(axis=0)))"
   ]
  },
  {
   "cell_type": "code",
   "execution_count": 150,
   "id": "054be3b6",
   "metadata": {},
   "outputs": [
    {
     "name": "stdout",
     "output_type": "stream",
     "text": [
      "[0 1 2 3 4]\n"
     ]
    }
   ],
   "source": [
    "a = np.arange(5)\n",
    "print(a)"
   ]
  },
  {
   "cell_type": "code",
   "execution_count": 151,
   "id": "0eb54f00",
   "metadata": {},
   "outputs": [
    {
     "name": "stdout",
     "output_type": "stream",
     "text": [
      "[0 0 2 0 0]\n"
     ]
    }
   ],
   "source": [
    "a[[1, 3, 4]] = 0\n",
    "print(a)"
   ]
  },
  {
   "cell_type": "code",
   "execution_count": 152,
   "id": "67cbfa92",
   "metadata": {},
   "outputs": [
    {
     "name": "stdout",
     "output_type": "stream",
     "text": [
      "[2 1 3 3 4]\n"
     ]
    }
   ],
   "source": [
    "a = np.arange(5)\n",
    "a[[0, 0, 2]] = [1, 2, 3]\n",
    "print(a)"
   ]
  },
  {
   "cell_type": "code",
   "execution_count": 154,
   "id": "cbece940",
   "metadata": {},
   "outputs": [
    {
     "name": "stdout",
     "output_type": "stream",
     "text": [
      "[1 1 3 3 4]\n"
     ]
    }
   ],
   "source": [
    "a = np.arange(5)\n",
    "a[[0, 0, 2]] += 1\n",
    "print(a)"
   ]
  },
  {
   "cell_type": "code",
   "execution_count": 155,
   "id": "f5a1732e",
   "metadata": {},
   "outputs": [
    {
     "name": "stdout",
     "output_type": "stream",
     "text": [
      "[[False False False False]\n",
      " [False  True  True  True]\n",
      " [ True  True  True  True]]\n",
      "[ 5  6  7  8  9 10 11]\n"
     ]
    }
   ],
   "source": [
    "### https://numpy.org/devdocs/user/quickstart.html#indexing-with-boolean-arrays\n",
    "a = np.arange(12).reshape(3, 4)\n",
    "b = a > 4\n",
    "print(b) # `b` is a boolean with `a`'s shape\n",
    "print(a[b]) # 1d array with the selected elements"
   ]
  },
  {
   "cell_type": "code",
   "execution_count": 157,
   "id": "e56d822f",
   "metadata": {},
   "outputs": [
    {
     "name": "stdout",
     "output_type": "stream",
     "text": [
      "[[0 1 2 3]\n",
      " [4 0 0 0]\n",
      " [0 0 0 0]]\n"
     ]
    }
   ],
   "source": [
    "a[b] = 0 # All elements of `a` higher than 4 become 0\n",
    "print(a)"
   ]
  },
  {
   "cell_type": "code",
   "execution_count": 159,
   "id": "7e43e756",
   "metadata": {},
   "outputs": [
    {
     "data": {
      "text/plain": [
       "<matplotlib.image.AxesImage at 0x120e8bbd0>"
      ]
     },
     "execution_count": 159,
     "metadata": {},
     "output_type": "execute_result"
    },
    {
     "data": {
      "image/png": "[encoded data removed]",
      "text/plain": [
       "<Figure size 640x480 with 1 Axes>"
      ]
     },
     "metadata": {},
     "output_type": "display_data"
    }
   ],
   "source": [
    "%matplotlib inline\n",
    "\n",
    "import numpy as np\n",
    "import matplotlib.pyplot as plt\n",
    "def mandelbrot(h, w, maxit=20, r=2):\n",
    "    \"\"\"Returns an image of Mandelbrot fractal of size (h,w).\"\"\"\n",
    "    x = np.linspace(-2.5, 1.5, 4*h+1)\n",
    "    y = np.linspace(-1.5, 1.5, 3*w+1)\n",
    "    A, B = np.meshgrid(x, y)\n",
    "    C = A +B*1j\n",
    "    z = np.zeros_like(C)\n",
    "    divtime = maxit + np.zeros(z.shape, dtype=int)\n",
    "    \n",
    "    for i in range(maxit):\n",
    "        z = z**2 + C\n",
    "        diverge = abs(z) > r # who is diverging\n",
    "        div_now = diverge & (divtime == maxit) # who is diverging now\n",
    "        divtime[div_now] = i # note when\n",
    "        z[diverge] = r # avoid diverging too much\n",
    "    \n",
    "    return divtime\n",
    "plt.clf()\n",
    "plt.imshow(mandelbrot(400, 400))"
   ]
  },
  {
   "cell_type": "code",
   "execution_count": 161,
   "id": "2b0da8f1",
   "metadata": {},
   "outputs": [
    {
     "name": "stdout",
     "output_type": "stream",
     "text": [
      "[[ 4  5  6  7]\n",
      " [ 8  9 10 11]]\n"
     ]
    }
   ],
   "source": [
    "a = np.arange(12).reshape(3, 4)\n",
    "b1 = np.array([False, True, True]) # first dim selection\n",
    "b2 = np.array([True, False, True, False]) # second dim selection\n",
    "print(a[b1, :]) # selecting rows"
   ]
  },
  {
   "cell_type": "code",
   "execution_count": 162,
   "id": "a4bcd40e",
   "metadata": {},
   "outputs": [
    {
     "name": "stdout",
     "output_type": "stream",
     "text": [
      "[[ 4  5  6  7]\n",
      " [ 8  9 10 11]]\n"
     ]
    }
   ],
   "source": [
    "print(a[b1]) # same thins"
   ]
  },
  {
   "cell_type": "code",
   "execution_count": 163,
   "id": "6242c060",
   "metadata": {},
   "outputs": [
    {
     "name": "stdout",
     "output_type": "stream",
     "text": [
      "[[ 0  2]\n",
      " [ 4  6]\n",
      " [ 8 10]]\n"
     ]
    }
   ],
   "source": [
    "print(a[:, b2]) # selecting columns"
   ]
  },
  {
   "cell_type": "code",
   "execution_count": 164,
   "id": "9cb73b0b",
   "metadata": {},
   "outputs": [
    {
     "name": "stdout",
     "output_type": "stream",
     "text": [
      "[ 4 10]\n"
     ]
    }
   ],
   "source": [
    "print(a[b1, b2]) # a weird thing to do"
   ]
  },
  {
   "cell_type": "code",
   "execution_count": 165,
   "id": "6ced45d6",
   "metadata": {},
   "outputs": [],
   "source": [
    "### https://numpy.org/devdocs/user/quickstart.html#the-ix-function"
   ]
  },
  {
   "cell_type": "code",
   "execution_count": 171,
   "id": "9f569df1",
   "metadata": {},
   "outputs": [
    {
     "name": "stdout",
     "output_type": "stream",
     "text": [
      "[[[2]]\n",
      "\n",
      " [[3]]\n",
      "\n",
      " [[4]]\n",
      "\n",
      " [[5]]]\n",
      "[[[8]\n",
      "  [5]\n",
      "  [4]]]\n",
      "[[[5 4 6 8 3]]]\n"
     ]
    }
   ],
   "source": [
    "a = np.array([2, 3, 4, 5])\n",
    "b = np.array([8, 5, 4])\n",
    "c = np.array([5, 4, 6, 8, 3])\n",
    "ax, bx, cx = np.ix_(a, b, c)\n",
    "print(ax, bx, cx, sep='\\n')"
   ]
  },
  {
   "cell_type": "code",
   "execution_count": 172,
   "id": "af38bb43",
   "metadata": {},
   "outputs": [
    {
     "name": "stdout",
     "output_type": "stream",
     "text": [
      "(4, 1, 1)\n",
      "(1, 3, 1)\n",
      "(1, 1, 5)\n"
     ]
    }
   ],
   "source": [
    "print(ax.shape, bx.shape, cx.shape, sep='\\n')"
   ]
  },
  {
   "cell_type": "code",
   "execution_count": 173,
   "id": "acb09e08",
   "metadata": {},
   "outputs": [
    {
     "name": "stdout",
     "output_type": "stream",
     "text": [
      "[[[15 14 16 18 13]\n",
      "  [12 11 13 15 10]\n",
      "  [11 10 12 14  9]]\n",
      "\n",
      " [[16 15 17 19 14]\n",
      "  [13 12 14 16 11]\n",
      "  [12 11 13 15 10]]\n",
      "\n",
      " [[17 16 18 20 15]\n",
      "  [14 13 15 17 12]\n",
      "  [13 12 14 16 11]]\n",
      "\n",
      " [[18 17 19 21 16]\n",
      "  [15 14 16 18 13]\n",
      "  [14 13 15 17 12]]]\n"
     ]
    }
   ],
   "source": [
    "result = ax + bx + cx\n",
    "print(result)"
   ]
  },
  {
   "cell_type": "code",
   "execution_count": 174,
   "id": "9fd596f0",
   "metadata": {},
   "outputs": [
    {
     "name": "stdout",
     "output_type": "stream",
     "text": [
      "12\n"
     ]
    }
   ],
   "source": [
    "print(result[3, 2, 4])"
   ]
  },
  {
   "cell_type": "code",
   "execution_count": 175,
   "id": "1cea8910",
   "metadata": {},
   "outputs": [
    {
     "name": "stdout",
     "output_type": "stream",
     "text": [
      "12\n"
     ]
    }
   ],
   "source": [
    "print(a[3] + b[2] + c[4])"
   ]
  },
  {
   "cell_type": "code",
   "execution_count": 178,
   "id": "aea4dd45",
   "metadata": {},
   "outputs": [
    {
     "name": "stdout",
     "output_type": "stream",
     "text": [
      "[[[15 14 16 18 13]\n",
      "  [12 11 13 15 10]\n",
      "  [11 10 12 14  9]]\n",
      "\n",
      " [[16 15 17 19 14]\n",
      "  [13 12 14 16 11]\n",
      "  [12 11 13 15 10]]\n",
      "\n",
      " [[17 16 18 20 15]\n",
      "  [14 13 15 17 12]\n",
      "  [13 12 14 16 11]]\n",
      "\n",
      " [[18 17 19 21 16]\n",
      "  [15 14 16 18 13]\n",
      "  [14 13 15 17 12]]]\n"
     ]
    }
   ],
   "source": [
    "def ufunc_reduce(ufct, *vectors):\n",
    "    vs = np.ix_(*vectors)\n",
    "    r = ufct.identity\n",
    "    for v in vs:\n",
    "        r =ufct(r, v)\n",
    "    return r\n",
    "print(ufunc_reduce(np.add, a, b, c))"
   ]
  },
  {
   "cell_type": "code",
   "execution_count": 179,
   "id": "927e3a94",
   "metadata": {},
   "outputs": [],
   "source": [
    "### https://numpy.org/devdocs/user/quickstart.html#indexing-with-strings\n",
    "###;;; See [Structured arrays](https://numpy.org/doc/stable/user/basics.rec.html#structured-arrays)\n",
    "\n",
    "## https://numpy.org/devdocs/user/quickstart.html#tricks-and-tips\n",
    "### https://numpy.org/devdocs/user/quickstart.html#automatic-reshaping"
   ]
  },
  {
   "cell_type": "code",
   "execution_count": 181,
   "id": "da4b975d",
   "metadata": {},
   "outputs": [
    {
     "name": "stdout",
     "output_type": "stream",
     "text": [
      "(2, 5, 3)\n"
     ]
    }
   ],
   "source": [
    "a = np.arange(30)\n",
    "b = a.reshape((2, -1, 3)) # -1 means \"whatever is needed\"\n",
    "print(b.shape)"
   ]
  },
  {
   "cell_type": "code",
   "execution_count": 182,
   "id": "2e5d4be7",
   "metadata": {},
   "outputs": [
    {
     "name": "stdout",
     "output_type": "stream",
     "text": [
      "[[[ 0  1  2]\n",
      "  [ 3  4  5]\n",
      "  [ 6  7  8]\n",
      "  [ 9 10 11]\n",
      "  [12 13 14]]\n",
      "\n",
      " [[15 16 17]\n",
      "  [18 19 20]\n",
      "  [21 22 23]\n",
      "  [24 25 26]\n",
      "  [27 28 29]]]\n"
     ]
    }
   ],
   "source": [
    "print(b)"
   ]
  },
  {
   "cell_type": "code",
   "execution_count": 183,
   "id": "d9a1eabf",
   "metadata": {},
   "outputs": [],
   "source": [
    "### https://numpy.org/devdocs/user/quickstart.html#vector-stacking"
   ]
  },
  {
   "cell_type": "code",
   "execution_count": 186,
   "id": "e524a63d",
   "metadata": {},
   "outputs": [
    {
     "name": "stdout",
     "output_type": "stream",
     "text": [
      "[[0 2 4 6 8]\n",
      " [0 1 2 3 4]]\n"
     ]
    }
   ],
   "source": [
    "x = np.arange(0, 10, 2)\n",
    "y = np.arange(5)\n",
    "m = np.vstack([x, y])\n",
    "print(m)"
   ]
  },
  {
   "cell_type": "code",
   "execution_count": 187,
   "id": "251ba755",
   "metadata": {},
   "outputs": [
    {
     "name": "stdout",
     "output_type": "stream",
     "text": [
      "[0 2 4 6 8 0 1 2 3 4]\n"
     ]
    }
   ],
   "source": [
    "xy = np.hstack([x, y])\n",
    "print(xy)"
   ]
  },
  {
   "cell_type": "code",
   "execution_count": 188,
   "id": "1f135c0a",
   "metadata": {},
   "outputs": [],
   "source": [
    "### https://numpy.org/devdocs/user/quickstart.html#histograms"
   ]
  },
  {
   "cell_type": "code",
   "execution_count": 191,
   "id": "30517c51",
   "metadata": {},
   "outputs": [
    {
     "data": {
      "text/plain": [
       "[<matplotlib.lines.Line2D at 0x128904a50>]"
      ]
     },
     "execution_count": 191,
     "metadata": {},
     "output_type": "execute_result"
    },
    {
     "data": {
      "image/png": "[encoded data removed]",
      "text/plain": [
       "<Figure size 640x480 with 1 Axes>"
      ]
     },
     "metadata": {},
     "output_type": "display_data"
    }
   ],
   "source": [
    "%matplotlib inline\n",
    "\n",
    "import numpy as np\n",
    "rg = np.random.default_rng(1)\n",
    "import matplotlib.pyplot as plt\n",
    "###;;; Build a vector of 10000 normal deviates with variance 0.5^2 and mean 2\n",
    "mu, sigma = 2, 0.5\n",
    "v = rg.normal(mu, sigma, 10000)\n",
    "###;;; Plot a normalized histogram with 50 bins\n",
    "plt.hist(v, bins=50, density=True) # matplotlib version (plot)\n",
    "\n",
    "###;;; Compute the histogram with numpy and the plot it\n",
    "(n, bins) = np.histogram(v, bins=50, density=True) # NumPy versin (no plot)\n",
    "plt.plot(.5 * (bins[1:] + bins[:-1]), n)"
   ]
  },
  {
   "cell_type": "code",
   "execution_count": null,
   "id": "6c88939c",
   "metadata": {},
   "outputs": [],
   "source": [
    "## https://numpy.org/devdocs/user/quickstart.html#further-reading\n",
    "###;;; The Python tutorial, NumPy reference, SciPy tutorial, SciPy Lecture Notes, a matlab, R, IDL, NumPy/SciPy dictionary\n",
    "###;;; [tutorial_svd](https://numpy.org/numpy-tutorials/content/tutorial-svd.html)"
   ]
  }
 ],
 "metadata": {
  "kernelspec": {
   "display_name": "Python 3 (ipykernel)",
   "language": "python",
   "name": "python3"
  },
  "language_info": {
   "codemirror_mode": {
    "name": "ipython",
    "version": 3
   },
   "file_extension": ".py",
   "mimetype": "text/x-python",
   "name": "python",
   "nbconvert_exporter": "python",
   "pygments_lexer": "ipython3",
   "version": "3.11.7"
  }
 },
 "nbformat": 4,
 "nbformat_minor": 5
}
